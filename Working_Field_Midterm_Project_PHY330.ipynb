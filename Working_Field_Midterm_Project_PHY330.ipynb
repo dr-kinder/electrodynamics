{
  "cells": [
    {
      "cell_type": "markdown",
      "metadata": {
        "id": "view-in-github",
        "colab_type": "text"
      },
      "source": [
        "<a href=\"https://colab.research.google.com/github/camstillo/electrodynamics/blob/master/Working_Field_Midterm_Project_PHY330.ipynb\" target=\"_parent\"><img src=\"https://colab.research.google.com/assets/colab-badge.svg\" alt=\"Open In Colab\"/></a>"
      ]
    },
    {
      "cell_type": "code",
      "execution_count": null,
      "metadata": {
        "id": "uufWNrihOoRo"
      },
      "outputs": [],
      "source": [
        "try:\n",
        "    # Import gmsh library for generating meshes.\n",
        "    import gmsh\n",
        "except ImportError:\n",
        "    # If it is not available, install it.  Then import it.\n",
        "    !wget \"https://fem-on-colab.github.io/releases/gmsh-install.sh\" -O \"/tmp/gmsh-install.sh\" && bash \"/tmp/gmsh-install.sh\"\n",
        "    import gmsh"
      ]
    },
    {
      "cell_type": "code",
      "execution_count": null,
      "metadata": {
        "id": "2GtZiFEZOuYK"
      },
      "outputs": [],
      "source": [
        "try:\n",
        "    # Import FEniCSx libraries for finite element analysis.\n",
        "    import dolfinx\n",
        "except ImportError:\n",
        "    # If they are not found, install them.  Then import them.\n",
        "    !wget \"https://fem-on-colab.github.io/releases/fenicsx-install-real.sh\" -O \"/tmp/fenicsx-install.sh\" && bash \"/tmp/fenicsx-install.sh\"\n",
        "    import dolfinx"
      ]
    },
    {
      "cell_type": "code",
      "execution_count": null,
      "metadata": {
        "id": "y0djhWawOxS3"
      },
      "outputs": [],
      "source": [
        "try:\n",
        "    # Import multiphenicsx, mainly for plotting.\n",
        "    import multiphenicsx\n",
        "except ImportError:\n",
        "    # If they are not found, install them.\n",
        "    !pip3 install \"multiphenicsx@git+https://github.com/multiphenics/multiphenicsx.git@8b97b4e\"\n",
        "    import multiphenicsx"
      ]
    },
    {
      "cell_type": "code",
      "execution_count": 225,
      "metadata": {
        "id": "6yTXK7dvO0Hr"
      },
      "outputs": [],
      "source": [
        "# Everything should be installed now.\n",
        "# Import the rest of what we need.\n",
        "\n",
        "import dolfinx.fem\n",
        "import dolfinx.io\n",
        "import gmsh\n",
        "import mpi4py.MPI\n",
        "import numpy as np\n",
        "import petsc4py.PETSc\n",
        "import ufl\n",
        "import multiphenicsx.fem\n",
        "import multiphenicsx.io"
      ]
    },
    {
      "cell_type": "code",
      "execution_count": 226,
      "metadata": {
        "id": "so3ODzgdO3gf"
      },
      "outputs": [],
      "source": [
        "# Define the center of the circle.\n",
        "x0 = 0\n",
        "y0 = 0\n",
        "z0 = 0\n",
        "\n",
        "#Define the top magnet\n",
        "P1X = -2.5\n",
        "P1Y = 4.33\n",
        "P2X = -2.5\n",
        "P2Y = 2.17\n",
        "P3X = 2.5\n",
        "P3Y = 2.17\n",
        "P4X = 2.5\n",
        "P4Y = 4.33\n",
        "\n",
        "#Top charge region points\n",
        "TC1X = -2.6\n",
        "TC1Y = 2.17\n",
        "TC2X = 0\n",
        "TC2Y = -0.1\n",
        "TC3X = 2.6\n",
        "TC3Y = 2.17\n",
        "\n",
        "#Bottom charge region points\n",
        "#left region\n",
        "BCL1X = -2.5\n",
        "BCL1Y = -1.66\n",
        "BCL2X = -2\n",
        "BCL2Y = -1.66\n",
        "#center region\n",
        "BCC1X = -2\n",
        "BCC1Y = -2.66\n",
        "BCC2X = 2\n",
        "BCC2Y = -2.66\n",
        "#right region\n",
        "BCR1X = 2\n",
        "BCR1Y = -1.66\n",
        "BCR2X = 2.5\n",
        "BCR2Y = -1.66\n",
        "\n",
        "\n",
        "#Define Bottom Magnet\n",
        "B1X = -2.5\n",
        "B1Y = -4.33\n",
        "B2X = -2.5\n",
        "B2Y = -1.76\n",
        "B3X = -2\n",
        "B3Y = -1.76\n",
        "B4X = -2\n",
        "B4Y = -2.76\n",
        "B5X = 2\n",
        "B5Y = -2.76\n",
        "B6X = 2\n",
        "B6Y = -1.76\n",
        "B7X = 2.5\n",
        "B7Y = -1.76\n",
        "B8X = 2.5\n",
        "B8Y = -4.33\n",
        "\n",
        " \n",
        "# Define the radius of the circle.\n",
        "r0 = 10\n",
        "\n",
        "# Tell the modeling program how many dimensions we are using.\n",
        "dim = 2\n",
        "\n",
        "# Grid size parameter.  Make it smaller for higher resolution.\n",
        "delta = 0.2"
      ]
    },
    {
      "cell_type": "code",
      "execution_count": 227,
      "metadata": {
        "id": "NhlaJ5FxEUgJ"
      },
      "outputs": [],
      "source": [
        "#Define physical constants and magnetization vector\n",
        "mu_background = 1.0\n",
        "mu_magnet = 5000\n",
        "Q_Top = 10000\n",
        "Q_Bot = -10000"
      ]
    },
    {
      "cell_type": "code",
      "execution_count": 228,
      "metadata": {
        "id": "Ghr342hI-o-o"
      },
      "outputs": [],
      "source": [
        "# # Let's check the shape before trying to get GMSH to make a model ...\n",
        "# import matplotlib.pyplot as plt\n",
        "\n",
        "# #x1 = [B1X, B2X, B3X, B4X, B5X, B6X, B7X, B8X, B1X]\n",
        "# #y1 = [B1Y, B2Y, B3Y, B4Y, B5Y, B6Y, B7Y, B8Y, B1Y]\n",
        "\n",
        "# x2 = [P2X, x0, P3X]\n",
        "# y2 = [P2Y, y0, P3Y]\n",
        "\n",
        "# x3 = [TC1X, TC2X, TC3X, P3X, x0, P2X, TC1X]\n",
        "# y3 = [TC1Y, TC2Y, TC3Y, P3Y, y0, P2Y, TC1Y]\n",
        "\n",
        "# #x5 = [BCC1X, BCC2X, BCC3X, BCC4X, BCC1X]\n",
        "# #y5 = [B4Y, BCC1Y, BCC2Y, B5Y, B4Y]\n",
        "\n",
        "# #x6 = [B2X, BCL1X, BCL2X, B3X, B2X]\n",
        "# #y6 = [B2Y, BCL1Y, BCL2Y, B3Y, B2Y]\n",
        "\n",
        "# #x7 = [B6X, BCR1X, BCR2X, B7X, B6X]\n",
        "# #y7 = [B6Y, BCL1Y, BCL2Y, B7Y, B6Y]\n",
        "      \n",
        "# #plt.plot(x1,y1, 'b-o')\n",
        "# plt.figure(dpi = 300)\n",
        "# plt.plot(x2,y2,'r-o')\n",
        "# plt.plot(x3, y3, 'b-o')\n",
        "\n",
        "# #plt.plot(x4, y4, 'b-o')\n",
        "# #plt.plot(x5, y5, 'r-o')\n",
        "# #plt.plot(x6, y6, 'r-o')\n",
        "# #plt.plot(x7, y7, 'r-o')\n",
        "\n",
        "# plt.axis(\"equal\")"
      ]
    },
    {
      "cell_type": "code",
      "execution_count": 229,
      "metadata": {
        "id": "spovuIssJ634"
      },
      "outputs": [],
      "source": [
        "# Create the model.\n",
        "gmsh.initialize()\n",
        "gmsh.model.add(\"mesh\")\n",
        "\n",
        "# Define points: center of circle and two points on opposite sides.\n",
        "p0 = gmsh.model.geo.addPoint(x0,y0, z0, delta)\n",
        "p1 = gmsh.model.geo.addPoint(x0, y0-r0, z0, delta)\n",
        "p2 = gmsh.model.geo.addPoint(x0, y0+r0,z0, delta)\n",
        "\n",
        "#Define points: Top Magnet\n",
        "T1 = gmsh.model.geo.addPoint(P1X, P1Y, z0, delta)\n",
        "T2 = gmsh.model.geo.addPoint(P2X, P2Y, z0, delta)\n",
        "T3 = gmsh.model.geo.addPoint(x0,y0, z0, delta)\n",
        "T4 = gmsh.model.geo.addPoint(P3X, P3Y, z0, delta)\n",
        "T5 = gmsh.model.geo.addPoint(P4X, P4Y, z0, delta)\n",
        "\n",
        "#Define points: Bottom Magnet\n",
        "B1 = gmsh.model.geo.addPoint(B1X, B1Y, z0, delta)\n",
        "B2 = gmsh.model.geo.addPoint(B2X, B2Y, z0, delta)\n",
        "B3 = gmsh.model.geo.addPoint(B3X, B3Y, z0, delta)\n",
        "B4 = gmsh.model.geo.addPoint(B4X, B4Y, z0, delta)\n",
        "B5 = gmsh.model.geo.addPoint(B5X, B5Y, z0, delta)\n",
        "B6 = gmsh.model.geo.addPoint(B6X, B6Y, z0, delta)\n",
        "B7 = gmsh.model.geo.addPoint(B7X, B7Y, z0, delta)\n",
        "B8 = gmsh.model.geo.addPoint(B8X, B8Y, z0, delta)\n",
        "\n",
        "#Define points: Top and bottom magnetic regions\n",
        "TM1 = gmsh.model.geo.addPoint(TC1X, TC1Y, z0, delta) #Top magnets (3 points)\n",
        "TM2 = gmsh.model.geo.addPoint(TC2X, TC2Y, z0, delta)\n",
        "TM3 = gmsh.model.geo.addPoint(TC3X, TC3Y, z0, delta)\n",
        "BMC1 = gmsh.model.geo.addPoint(BCC1X, BCC1Y, z0, delta) #Bottom Center (2 points)\n",
        "BMC2 = gmsh.model.geo.addPoint(BCC2X, BCC2Y, z0, delta)\n",
        "BML1 = gmsh.model.geo.addPoint(BCL1X, BCL1Y, z0, delta) #Bottom Left (2 points)\n",
        "BML2 = gmsh.model.geo.addPoint(BCL2X, BCL2Y, z0, delta)\n",
        "BMR1 = gmsh.model.geo.addPoint(BCR1X, BCR1Y, z0, delta) #Bottom Right (2 points)\n",
        "BMR2 = gmsh.model.geo.addPoint(BCR2X, BCR2Y, z0, delta)\n",
        "\n",
        "#Define: \"charged\" regions on magnet edges\n",
        "#Top Magnet Loop\n",
        "R1 = gmsh.model.geo.addLine(TM1, TM2)\n",
        "R2 = gmsh.model.geo.addLine(TM2, TM3)\n",
        "R3 = gmsh.model.geo.addLine(TM3, T4)\n",
        "R4 = gmsh.model.geo.addLine(T4, T3)\n",
        "R5 = gmsh.model.geo.addLine(T3, T2)\n",
        "R6 = gmsh.model.geo.addLine(T2, TM1)\n",
        "TopChargeLoop = gmsh.model.geo.addCurveLoop([R1, R2, R3, R4, R5, R6])\n",
        "#Bottom Magnet Loop Center\n",
        "BC1 = gmsh.model.geo.addLine(BMC1, BMC2)\n",
        "BC2 = gmsh.model.geo.addLine(BMC2, B5)\n",
        "BC3 = gmsh.model.geo.addLine(B5, B4)\n",
        "BC4 = gmsh.model.geo.addLine(B4, BMC1)\n",
        "BotCenterChargeLoop = gmsh.model.geo.addCurveLoop([BC1, BC2, BC3, BC4])\n",
        "#Bottom Magnet Loop Left\n",
        "BL1 = gmsh.model.geo.addLine(BML1, BML2)\n",
        "BL2 = gmsh.model.geo.addLine(BML2, B3)\n",
        "BL3 = gmsh.model.geo.addLine(B3, B2)\n",
        "BL4 = gmsh.model.geo.addLine(B2, BML1)\n",
        "BotLeftChargeLoop = gmsh.model.geo.addCurveLoop([BL1, BL2, BL3, BL4])\n",
        "#Bottom Magnet Loop Right\n",
        "BR1 = gmsh.model.geo.addLine(B6, BMR1)\n",
        "BR2 = gmsh.model.geo.addLine(BMR1, BMR2)\n",
        "BR3 = gmsh.model.geo.addLine(BMR2, B7)\n",
        "BR4 = gmsh.model.geo.addLine(B7, B6)\n",
        "BotRightChargeLoop = gmsh.model.geo.addCurveLoop([BR1, BR2, BR3, BR4])\n",
        "\n",
        "# #Define: Top magnet shape\n",
        "L1 = gmsh.model.geo.addLine(T1, T2)\n",
        "L2 = gmsh.model.geo.addLine(T2, T3)\n",
        "L3 = gmsh.model.geo.addLine(T3, T4)\n",
        "L4 = gmsh.model.geo.addLine(T4, T5)\n",
        "L5 = gmsh.model.geo.addLine(T5, T1)\n",
        "topLoop = gmsh.model.geo.addCurveLoop([L1, L2, L3, L4, L5])\n",
        "#Define: Top magnet shape\n",
        "L_1 = gmsh.model.geo.addLine(T1, T2)\n",
        "L_2 = gmsh.model.geo.addLine(T2, TM1)\n",
        "L_3 = gmsh.model.geo.addLine(TM1, TM2)\n",
        "L_4 = gmsh.model.geo.addLine(TM2, TM3)\n",
        "L_5 = gmsh.model.geo.addLine(TM3, T4)\n",
        "L_6 = gmsh.model.geo.addLine(T4, T5)\n",
        "L_7 = gmsh.model.geo.addLine(T5, T1)\n",
        "topLoopExtended = gmsh.model.geo.addCurveLoop([L_1, L_2, L_3, L_4, L_5, L_6, L_7])\n",
        "\n",
        "#Define: Bottom magnet shape\n",
        "D1 = gmsh.model.geo.addLine(B1, B2)\n",
        "D2 = gmsh.model.geo.addLine(B2, B3)\n",
        "D3 = gmsh.model.geo.addLine(B3, B4)\n",
        "D4 = gmsh.model.geo.addLine(B4, B5)\n",
        "D5 = gmsh.model.geo.addLine(B5, B6)\n",
        "D6 = gmsh.model.geo.addLine(B6, B7)\n",
        "D7 = gmsh.model.geo.addLine(B7, B8)\n",
        "D8 = gmsh.model.geo.addLine(B8, B1)\n",
        "bottomLoop = gmsh.model.geo.addCurveLoop([D1, D2, D3, D4, D5, D6, D7, D8])\n",
        "#Add hole loop to speed up processing\n",
        "D_1 = gmsh.model.geo.addLine(B1, BML1)\n",
        "D_2 = gmsh.model.geo.addLine(BML1, BML2)\n",
        "D_3 = gmsh.model.geo.addLine(BML2, BMC1)\n",
        "D_4 = gmsh.model.geo.addLine(BMC1, BMC2)\n",
        "D_5 = gmsh.model.geo.addLine(BMC2, BMR1)\n",
        "D_6 = gmsh.model.geo.addLine(BMR1, BMR2)\n",
        "D_7 = gmsh.model.geo.addLine(BMR2, B8)\n",
        "D_8 = gmsh.model.geo.addLine(B8, B1)\n",
        "botLoopExtended = gmsh.model.geo.addCurveLoop([D_1, D_2, D_3, D_4, D_5, D_6, D_7, D_8])\n"
      ]
    },
    {
      "cell_type": "code",
      "execution_count": 230,
      "metadata": {
        "colab": {
          "base_uri": "https://localhost:8080/"
        },
        "id": "2hj93uYSKHc9",
        "outputId": "98a9b5d9-935f-4a8a-d034-81f29d23e1c9"
      },
      "outputs": [
        {
          "output_type": "execute_result",
          "data": {
            "text/plain": [
              "14"
            ]
          },
          "metadata": {},
          "execution_count": 230
        }
      ],
      "source": [
        "# Define two semicircular arcs that will be joined into a circle.\n",
        "# The circular disk is the \"universe\" --- the entire region of interest.\n",
        "c0 = gmsh.model.geo.addCircleArc(p1, p0, p2)\n",
        "c1 = gmsh.model.geo.addCircleArc(p2, p0, p1)\n",
        "universe = gmsh.model.geo.addCurveLoop([c0,c1])\n",
        "\n",
        "# The \"background\" is the universe, minus holes for the objects inside.\n",
        "background = gmsh.model.geo.addPlaneSurface([universe,topLoopExtended,botLoopExtended])\n",
        "# background = gmsh.model.geo.addPlaneSurface([universe,TopChargeLoop,BotCenterChargeLoop,BotRightChargeLoop,BotLeftChargeLoop])\n",
        "\n",
        "# The two objects fill in the holes in the background.\n",
        "topMagnet = gmsh.model.geo.addPlaneSurface([topLoop])\n",
        "bottomMagnet = gmsh.model.geo.addPlaneSurface([bottomLoop])\n",
        "topCharge = gmsh.model.geo.addPlaneSurface([TopChargeLoop])\n",
        "botCentCharge = gmsh.model.geo.addPlaneSurface([BotCenterChargeLoop])\n",
        "botLeftCharge = gmsh.model.geo.addPlaneSurface([BotLeftChargeLoop])\n",
        "botRightCharge = gmsh.model.geo.addPlaneSurface([BotRightChargeLoop])\n",
        "\n",
        "# Update the model with all of the features we add.\n",
        "gmsh.model.geo.synchronize()\n",
        "\n",
        "# # Identify the physical objects: boundaries and surfaces.\n",
        "gmsh.model.addPhysicalGroup(1, [c0,c1], tag=1)\n",
        "gmsh.model.addPhysicalGroup(2, [background], tag=8)\n",
        "gmsh.model.addPhysicalGroup(1, [L1, L2, L3, L4,L5], tag=2)\n",
        "gmsh.model.addPhysicalGroup(2, [topMagnet], tag=9)\n",
        "gmsh.model.addPhysicalGroup(1, [D1, D2, D3, D4, D5, D6, D7, D8], tag=3)\n",
        "gmsh.model.addPhysicalGroup(2, [bottomMagnet],tag=10)\n",
        "gmsh.model.addPhysicalGroup(1, [R1, R2, R3, R4, R5, R6],tag=4)\n",
        "gmsh.model.addPhysicalGroup(2, [topCharge], tag=11)\n",
        "gmsh.model.addPhysicalGroup(1, [BC1, BC2, BC3, BC4], tag=5)\n",
        "gmsh.model.addPhysicalGroup(2, [botCentCharge], tag=12)\n",
        "gmsh.model.addPhysicalGroup(1, [BL1, BL2, BL3, BL4], tag=6)\n",
        "gmsh.model.addPhysicalGroup(2, [botLeftCharge], tag=13)\n",
        "gmsh.model.addPhysicalGroup(1, [BR1, BR2, BR3, BR4], tag=7)\n",
        "gmsh.model.addPhysicalGroup(2, [botRightCharge], tag=14)"
      ]
    },
    {
      "cell_type": "code",
      "execution_count": 231,
      "metadata": {
        "id": "VVUAofp5WMbv"
      },
      "outputs": [],
      "source": [
        "# Create a mesh for this system.\n",
        "gmsh.model.mesh.generate(dim)\n",
        "\n",
        "# Bring the mesh into FEniCSx.\n",
        "mesh, subdomains, boundaries = dolfinx.io.gmshio.model_to_mesh(\n",
        "    gmsh.model, comm=mpi4py.MPI.COMM_WORLD, rank=0, gdim=2)\n",
        "\n",
        "# Close the mesh generating program.\n",
        "gmsh.finalize()"
      ]
    },
    {
      "cell_type": "code",
      "execution_count": 232,
      "metadata": {
        "id": "grOPzYknaJB6"
      },
      "outputs": [],
      "source": [
        "# Plot the entire mesh.\n",
        "# multiphenicsx.io.plot_mesh(mesh)"
      ]
    },
    {
      "cell_type": "code",
      "execution_count": 233,
      "metadata": {
        "colab": {
          "base_uri": "https://localhost:8080/",
          "height": 717,
          "referenced_widgets": [
            "f9c218e837b641ab979ec09b2e811d5f",
            "c8c60c3c9d624804830c035f52a53a38"
          ]
        },
        "id": "H1WunCT4abCR",
        "outputId": "a89284cc-00b8-4a7f-9f52-603d43e45ee9"
      },
      "outputs": [
        {
          "output_type": "display_data",
          "data": {
            "text/plain": [
              "Viewer(geometries=[{'vtkClass': 'vtkPolyData', 'points': {'vtkClass': 'vtkPoints', 'name': '_points', 'numberO…"
            ],
            "application/vnd.jupyter.widget-view+json": {
              "version_major": 2,
              "version_minor": 0,
              "model_id": "f9c218e837b641ab979ec09b2e811d5f"
            }
          },
          "metadata": {
            "application/vnd.jupyter.widget-view+json": {
              "colab": {
                "custom_widget_manager": {
                  "url": "https://ssl.gstatic.com/colaboratory-static/widgets/colab-cdn-widget-manager/d2e234f7cc04bf79/manager.min.js"
                }
              }
            }
          }
        },
        {
          "output_type": "display_data",
          "data": {
            "text/plain": [
              "Viewer(geometries=[{'vtkClass': 'vtkPolyData', 'points': {'vtkClass': 'vtkPoints', 'name': '_points', 'numberO…"
            ],
            "application/vnd.jupyter.widget-view+json": {
              "version_major": 2,
              "version_minor": 0,
              "model_id": "f9c218e837b641ab979ec09b2e811d5f"
            }
          },
          "metadata": {
            "application/vnd.jupyter.widget-view+json": {
              "colab": {
                "custom_widget_manager": {
                  "url": "https://ssl.gstatic.com/colaboratory-static/widgets/colab-cdn-widget-manager/d2e234f7cc04bf79/manager.min.js"
                }
              }
            }
          }
        }
      ],
      "source": [
        "# Plot the subdomains that FEniCSx has identified.\n",
        "# There should only be one for this model.\n",
        "multiphenicsx.io.plot_mesh_tags(subdomains)"
      ]
    },
    {
      "cell_type": "code",
      "execution_count": 234,
      "metadata": {
        "id": "nKXtBQVcbyjR"
      },
      "outputs": [],
      "source": [
        "# Inspect the boundaries of the elements and the system.\n",
        "# multiphenicsx.io.plot_mesh_tags(boundaries)"
      ]
    },
    {
      "cell_type": "code",
      "source": [
        "# Define trial and test functions.\n",
        "V = dolfinx.fem.FunctionSpace(mesh, (\"Lagrange\", 2))\n",
        "\n",
        "# Set the values: center and spread charge of charge distribution.\n",
        "xC = 0\n",
        "yC = 0\n",
        "ds = 0.1\n",
        "Q = dolfinx.fem.Function(V)\n",
        "mu = dolfinx.fem.Function(V)\n",
        "\n",
        "# Get the list of materials.\n",
        "material_tags = np.unique(subdomains.values)\n",
        "\n",
        "Q.x.array[:] = 0.0\n",
        "mu.x.array[:] = 0.0"
      ],
      "metadata": {
        "id": "oUQsge0rPNgm"
      },
      "execution_count": 235,
      "outputs": []
    },
    {
      "cell_type": "code",
      "source": [
        "coordinates = V.tabulate_dof_coordinates()\n",
        "x = coordinates[:,0]\n",
        "y = coordinates[:,1]\n",
        "import matplotlib.pyplot as plt\n",
        "Q_Vals = Q.x.array\n",
        "plt.Figure(figsize=(3, 3), dpi=80)\n",
        "cc = plt.scatter(x,y,s=10,c=Q_Vals,alpha=0.5)\n",
        "plt.colorbar(cc)\n",
        "plt.show()"
      ],
      "metadata": {
        "colab": {
          "base_uri": "https://localhost:8080/",
          "height": 269
        },
        "id": "RM1F36JscuuX",
        "outputId": "9f9bd48b-cae5-48cd-9cdc-53a942267861"
      },
      "execution_count": 236,
      "outputs": [
        {
          "output_type": "display_data",
          "data": {
            "text/plain": [
              "<Figure size 432x288 with 2 Axes>"
            ],
            "image/png": "[encoded data removed]"
          },
          "metadata": {
            "needs_background": "light"
          }
        }
      ]
    },
    {
      "cell_type": "code",
      "source": [
        "for tag in material_tags:\n",
        "   cells = subdomains.find(tag)\n",
        "  # # Set values for magnetic permiability & \"magnetic charge\" density\n",
        "  #  if tag in range(9,14):\n",
        "  #    mu.x.array[cells] = np.full_like(cells, mu_magnet, dtype=petsc4py.PETSc.ScalarType)\n",
        "  #  else:\n",
        "  #    mu.x.array[cells] = np.full_like(cells, mu_background, dtype=petsc4py.PETSc.ScalarType)\n",
        "\n",
        "\n",
        "   if tag == 11:\n",
        "        Q.x.array[cells] = np.full_like(cells, Q_Top, dtype=petsc4py.PETSc.ScalarType)\n",
        "   elif tag in range(12,15):\n",
        "        Q.x.array[cells] = np.full_like(cells, Q_Bot, dtype=petsc4py.PETSc.ScalarType)\n",
        "   else :\n",
        "        Q.x.array[cells] = np.full_like(cells, 0, dtype=petsc4py.PETSc.ScalarType)"
      ],
      "metadata": {
        "id": "wqwobHrDdudR"
      },
      "execution_count": 247,
      "outputs": []
    },
    {
      "cell_type": "code",
      "source": [],
      "metadata": {
        "id": "yYuU1dDqjeg8"
      },
      "execution_count": 247,
      "outputs": []
    },
    {
      "cell_type": "code",
      "source": [
        "coordinates = V.tabulate_dof_coordinates()\n",
        "x = coordinates[:,0]\n",
        "y = coordinates[:,1]\n",
        "import matplotlib.pyplot as plt\n",
        "Q_Vals = Q.x.array\n",
        "plt.Figure(figsize=(3, 3), dpi=80)\n",
        "cc = plt.scatter(x,y,s=10,c=Q_Vals,alpha=0.5)\n",
        "plt.colorbar(cc)\n",
        "plt.show()"
      ],
      "metadata": {
        "colab": {
          "base_uri": "https://localhost:8080/",
          "height": 269
        },
        "id": "BL__yHMleLMT",
        "outputId": "1a717b52-1d09-4f6e-9bbe-b33679a80461"
      },
      "execution_count": 248,
      "outputs": [
        {
          "output_type": "display_data",
          "data": {
            "text/plain": [
              "<Figure size 432x288 with 2 Axes>"
            ],
            "image/png": "[encoded data removed]"
          },
          "metadata": {
            "needs_background": "light"
          }
        }
      ]
    },
    {
      "cell_type": "code",
      "execution_count": 239,
      "metadata": {
        "id": "N9hp3SCFCrnS"
      },
      "outputs": [],
      "source": [
        "\n",
        "# # Turn them into symbolic expressions for the FEM solver.\n",
        "# x = ufl.SpatialCoordinate(mesh)\n",
        "# beta = dolfinx.fem.Constant(mesh, petsc4py.PETSc.ScalarType(1/ds))\n",
        "# X0 = dolfinx.fem.Constant(mesh, petsc4py.PETSc.ScalarType(xC))\n",
        "# X1 = dolfinx.fem.Constant(mesh, petsc4py.PETSc.ScalarType(yC))\n",
        "\n",
        "# Generate the charge density values for our mesh.\n",
        "rho = Q \n",
        "\n",
        "# Identify the domain (all the points inside the boundary).\n",
        "Omega = subdomains.indices[subdomains.values == 1]\n",
        "\n",
        "# Identify the boundary.\n",
        "dOmega = boundaries.indices[boundaries.values == 1]\n",
        "\n",
        "# Use these objects to tell FEniCSx where the boundary is.\n",
        "boundary_elements = dolfinx.fem.locate_dofs_topological(V, boundaries.dim, dOmega)\n",
        "\n",
        "# Now introduce the boundary condition: constant potential on the boundary.\n",
        "phi0 = 0\n",
        "Phi0 = dolfinx.fem.Constant(mesh, petsc4py.PETSc.ScalarType(phi0))\n",
        "bc = dolfinx.fem.dirichletbc(Phi0, boundary_elements, V)\n",
        "\n",
        "# Define the trial and test functions.\n",
        "u = ufl.TrialFunction(V)\n",
        "v = ufl.TestFunction(V)\n",
        "\n",
        "# Create a function to store the solution.\n",
        "phi = dolfinx.fem.Function(V)\n",
        "\n",
        "# This is the FEM version of the Laplacian.\n",
        "# It is the left-hand side of Poisson's equation.\n",
        "a = (1/mu)*ufl.inner(ufl.grad(u), ufl.grad(v)) * ufl.dx\n",
        "\n",
        "# This is how we introduce the charge density.\n",
        "# It is the right-hand side of Poisson's equation.\n",
        "L = 4 * ufl.pi * rho * v * ufl.dx\n",
        "\n",
        "# Put it all together for FEniCSx.\n",
        "problem = dolfinx.fem.petsc.LinearProblem(a, L, bcs=[bc], u=phi, petsc_options={\"ksp_type\": \"preonly\", \"pc_type\": \"lu\"})\n",
        "\n",
        "# Now, solve it!\n",
        "problem.solve()\n",
        "\n",
        "# Tie up some loose ends.\n",
        "phi.vector.ghostUpdate(addv=petsc4py.PETSc.InsertMode.INSERT, mode=petsc4py.PETSc.ScatterMode.FORWARD)\n",
        "\n",
        "# # Plot the solution.\n",
        "# multiphenicsx.io.plot_scalar_field(phi, \"Potential\", 10)"
      ]
    },
    {
      "cell_type": "code",
      "source": [
        "# coordinates = V.tabulate_dof_coordinates()\n",
        "# x = coordinates[:,0]\n",
        "# y = coordinates[:,1]\n",
        "# # import matplotlib.pyplot as plt\n",
        "# Q_Vals = Q.x.array\n",
        "# cc = plt.scatter(x,y,s=10,c=Q_Vals,alpha=0.5)\n",
        "# plt.colorbar(cc)\n",
        "# plt.show()"
      ],
      "metadata": {
        "id": "ulRKnha3X5d7"
      },
      "execution_count": 240,
      "outputs": []
    },
    {
      "cell_type": "code",
      "execution_count": 241,
      "metadata": {
        "id": "NKyd9nyVzKGt",
        "colab": {
          "base_uri": "https://localhost:8080/",
          "height": 717,
          "referenced_widgets": [
            "ec8474c6bb604986a6dfa553df812000",
            "efd881bb2b2a47abb517077304ea77d1"
          ]
        },
        "outputId": "7719d632-c6e7-47bf-a8d5-7228d9cea393"
      },
      "outputs": [
        {
          "output_type": "display_data",
          "data": {
            "text/plain": [
              "Viewer(geometries=[{'vtkClass': 'vtkPolyData', 'points': {'vtkClass': 'vtkPoints', 'name': '_points', 'numberO…"
            ],
            "application/vnd.jupyter.widget-view+json": {
              "version_major": 2,
              "version_minor": 0,
              "model_id": "ec8474c6bb604986a6dfa553df812000"
            }
          },
          "metadata": {
            "application/vnd.jupyter.widget-view+json": {
              "colab": {
                "custom_widget_manager": {
                  "url": "https://ssl.gstatic.com/colaboratory-static/widgets/colab-cdn-widget-manager/d2e234f7cc04bf79/manager.min.js"
                }
              }
            }
          }
        },
        {
          "output_type": "display_data",
          "data": {
            "text/plain": [
              "Viewer(geometries=[{'vtkClass': 'vtkPolyData', 'points': {'vtkClass': 'vtkPoints', 'name': '_points', 'numberO…"
            ],
            "application/vnd.jupyter.widget-view+json": {
              "version_major": 2,
              "version_minor": 0,
              "model_id": "ec8474c6bb604986a6dfa553df812000"
            }
          },
          "metadata": {
            "application/vnd.jupyter.widget-view+json": {
              "colab": {
                "custom_widget_manager": {
                  "url": "https://ssl.gstatic.com/colaboratory-static/widgets/colab-cdn-widget-manager/d2e234f7cc04bf79/manager.min.js"
                }
              }
            }
          }
        }
      ],
      "source": [
        "# Plot the solution.\n",
        "multiphenicsx.io.plot_scalar_field(phi, \"Potential\", 0.01)"
      ]
    },
    {
      "cell_type": "code",
      "execution_count": 243,
      "metadata": {
        "id": "xPWuFE370U7Y",
        "colab": {
          "base_uri": "https://localhost:8080/",
          "height": 717,
          "referenced_widgets": [
            "0ab46c3132c840cbbf2400ea3a712230",
            "dd43bc9467a0451daf65e0ed88ffd360"
          ]
        },
        "outputId": "25cfa3c6-2cb1-4f93-ecbc-10799b8cb28f"
      },
      "outputs": [
        {
          "output_type": "display_data",
          "data": {
            "text/plain": [
              "Viewer(geometries=[{'vtkClass': 'vtkPolyData', 'points': {'vtkClass': 'vtkPoints', 'name': '_points', 'numberO…"
            ],
            "application/vnd.jupyter.widget-view+json": {
              "version_major": 2,
              "version_minor": 0,
              "model_id": "0ab46c3132c840cbbf2400ea3a712230"
            }
          },
          "metadata": {
            "application/vnd.jupyter.widget-view+json": {
              "colab": {
                "custom_widget_manager": {
                  "url": "https://ssl.gstatic.com/colaboratory-static/widgets/colab-cdn-widget-manager/d2e234f7cc04bf79/manager.min.js"
                }
              }
            }
          }
        },
        {
          "output_type": "display_data",
          "data": {
            "text/plain": [
              "Viewer(geometries=[{'vtkClass': 'vtkPolyData', 'points': {'vtkClass': 'vtkPoints', 'name': '_points', 'numberO…"
            ],
            "application/vnd.jupyter.widget-view+json": {
              "version_major": 2,
              "version_minor": 0,
              "model_id": "0ab46c3132c840cbbf2400ea3a712230"
            }
          },
          "metadata": {
            "application/vnd.jupyter.widget-view+json": {
              "colab": {
                "custom_widget_manager": {
                  "url": "https://ssl.gstatic.com/colaboratory-static/widgets/colab-cdn-widget-manager/d2e234f7cc04bf79/manager.min.js"
                }
              }
            }
          }
        }
      ],
      "source": [
        "# #Determine Electric field\n",
        "# E_Field = -ufl.grad(phi)\n",
        "\n",
        "# Define a set of elements for a vector field.\n",
        "W = dolfinx.fem.VectorFunctionSpace(mesh, (\"Lagrange\", 2))\n",
        "E = dolfinx.fem.Function(W)\n",
        "\n",
        "# Compute the gradient as a symbolic expression, then interpolate it onto the mesh.\n",
        "expr = dolfinx.fem.Expression(ufl.as_vector((-phi.dx(0), -phi.dx(1))), W.element.interpolation_points())\n",
        "E.interpolate(expr)\n",
        "\n",
        "# Use multiphenics to plot the vector field.\n",
        "multiphenicsx.io.plot_vector_field(E,name=\"Electric Field\", glyph_factor=0.1)"
      ]
    }
  ],
  "metadata": {
    "colab": {
      "collapsed_sections": [],
      "provenance": [],
      "include_colab_link": true
    },
    "kernelspec": {
      "display_name": "Python 3",
      "name": "python3"
    },
    "language_info": {
      "name": "python"
    },
    "widgets": {
      "application/vnd.jupyter.widget-state+json": {
        "f9c218e837b641ab979ec09b2e811d5f": {
          "model_module": "itkwidgets",
          "model_name": "ViewerModel",
          "model_module_version": "^0.32.3",
          "state": {
            "_custom_cmap": null,
            "_dom_classes": [],
            "_downsampling": false,
            "_largest_roi": {
              "shape": [
                2,
                3
              ],
              "dtype": "float64"
            },
            "_model_module": "itkwidgets",
            "_model_module_version": "^0.32.3",
            "_model_name": "ViewerModel",
            "_rendering_image": false,
            "_reset_crop_requested": false,
            "_scale_factors": {
              "shape": [
                3
              ],
              "dtype": "uint8"
            },
            "_view_count": null,
            "_view_module": "itkwidgets",
            "_view_module_version": "^0.32.3",
            "_view_name": "ViewerView",
            "annotations": true,
            "axes": false,
            "background": [
              1,
              1,
              1
            ],
            "blend_mode": "composite",
            "camera": {
              "shape": [
                3,
                3
              ],
              "dtype": "float32"
            },
            "channels": [],
            "clicked_slice_point": null,
            "cmap": null,
            "geometries": [
              {
                "vtkClass": "vtkPolyData",
                "points": {
                  "vtkClass": "vtkPoints",
                  "name": "_points",
                  "numberOfComponents": 3,
                  "dataType": "Float32Array",
                  "size": 32685
                },
                "polys": {
                  "vtkClass": "vtkCellArray",
                  "name": "_polys",
                  "numberOfComponents": 1,
                  "size": 84160,
                  "dataType": "Uint32Array"
                },
                "cellData": {
                  "vtkClass": "vtkDataSetAttributes",
                  "activeScalars": 0,
                  "arrays": [
                    {
                      "data": {
                        "vtkClass": "vtkDataArray",
                        "name": "Subdomains",
                        "numberOfComponents": 1,
                        "size": 21040,
                        "dataType": "Float64Array"
                      }
                    }
                  ]
                },
                "metadata": {
                  "name": "Geometry 0"
                }
              }
            ],
            "geometry_colors": {
              "shape": [
                1,
                3
              ],
              "dtype": "float32"
            },
            "geometry_opacities": {
              "shape": [
                1
              ],
              "dtype": "float32"
            },
            "gradient_opacity": 0.2,
            "interpolation": true,
            "label_image_blend": 0.5,
            "label_image_names": null,
            "label_image_weights": null,
            "layout": "IPY_MODEL_c8c60c3c9d624804830c035f52a53a38",
            "lut": "glasbey",
            "mode": "v",
            "opacity_gaussians": null,
            "point_set_colors": {
              "shape": [
                0,
                3
              ],
              "dtype": "float32"
            },
            "point_set_opacities": {
              "shape": [
                0
              ],
              "dtype": "float32"
            },
            "point_set_representations": [],
            "point_set_sizes": {
              "shape": [
                0
              ],
              "dtype": "uint8"
            },
            "point_sets": [],
            "rendered_image": null,
            "rendered_label_image": null,
            "roi": {
              "shape": [
                2,
                3
              ],
              "dtype": "float64"
            },
            "rotate": false,
            "sample_distance": 0.25,
            "select_roi": false,
            "shadow": true,
            "slicing_planes": false,
            "ui_collapsed": true,
            "units": "",
            "vmax": null,
            "vmin": null,
            "x_slice": null,
            "y_slice": null,
            "z_slice": null
          }
        },
        "c8c60c3c9d624804830c035f52a53a38": {
          "model_module": "@jupyter-widgets/base",
          "model_name": "LayoutModel",
          "model_module_version": "1.2.0",
          "state": {
            "_model_module": "@jupyter-widgets/base",
            "_model_module_version": "1.2.0",
            "_model_name": "LayoutModel",
            "_view_count": null,
            "_view_module": "@jupyter-widgets/base",
            "_view_module_version": "1.2.0",
            "_view_name": "LayoutView",
            "align_content": null,
            "align_items": null,
            "align_self": null,
            "border": null,
            "bottom": null,
            "display": null,
            "flex": null,
            "flex_flow": null,
            "grid_area": null,
            "grid_auto_columns": null,
            "grid_auto_flow": null,
            "grid_auto_rows": null,
            "grid_column": null,
            "grid_gap": null,
            "grid_row": null,
            "grid_template_areas": null,
            "grid_template_columns": null,
            "grid_template_rows": null,
            "height": null,
            "justify_content": null,
            "justify_items": null,
            "left": null,
            "margin": null,
            "max_height": null,
            "max_width": null,
            "min_height": null,
            "min_width": null,
            "object_fit": null,
            "object_position": null,
            "order": null,
            "overflow": null,
            "overflow_x": null,
            "overflow_y": null,
            "padding": null,
            "right": null,
            "top": null,
            "visibility": null,
            "width": null
          }
        },
        "ec8474c6bb604986a6dfa553df812000": {
          "model_module": "itkwidgets",
          "model_name": "ViewerModel",
          "model_module_version": "^0.32.3",
          "state": {
            "_custom_cmap": null,
            "_dom_classes": [],
            "_downsampling": false,
            "_largest_roi": {
              "shape": [
                2,
                3
              ],
              "dtype": "float64"
            },
            "_model_module": "itkwidgets",
            "_model_module_version": "^0.32.3",
            "_model_name": "ViewerModel",
            "_rendering_image": false,
            "_reset_crop_requested": false,
            "_scale_factors": {
              "shape": [
                3
              ],
              "dtype": "uint8"
            },
            "_view_count": null,
            "_view_module": "itkwidgets",
            "_view_module_version": "^0.32.3",
            "_view_name": "ViewerView",
            "annotations": true,
            "axes": false,
            "background": [
              1,
              1,
              1
            ],
            "blend_mode": "composite",
            "camera": {
              "shape": [
                3,
                3
              ],
              "dtype": "float32"
            },
            "channels": [],
            "clicked_slice_point": null,
            "cmap": null,
            "geometries": [
              {
                "vtkClass": "vtkPolyData",
                "points": {
                  "vtkClass": "vtkPoints",
                  "name": "_points",
                  "numberOfComponents": 3,
                  "dataType": "Float32Array",
                  "size": 128541
                },
                "polys": {
                  "vtkClass": "vtkCellArray",
                  "name": "_polys",
                  "numberOfComponents": 1,
                  "size": 336640,
                  "dataType": "Uint32Array"
                },
                "pointData": {
                  "vtkClass": "vtkDataSetAttributes",
                  "activeScalars": 0,
                  "arrays": [
                    {
                      "data": {
                        "vtkClass": "vtkDataArray",
                        "name": "Potential",
                        "numberOfComponents": 1,
                        "size": 42847,
                        "dataType": "Float64Array"
                      }
                    }
                  ]
                },
                "metadata": {
                  "name": "Geometry 0"
                }
              }
            ],
            "geometry_colors": {
              "shape": [
                1,
                3
              ],
              "dtype": "float32"
            },
            "geometry_opacities": {
              "shape": [
                1
              ],
              "dtype": "float32"
            },
            "gradient_opacity": 0.2,
            "interpolation": true,
            "label_image_blend": 0.5,
            "label_image_names": null,
            "label_image_weights": null,
            "layout": "IPY_MODEL_efd881bb2b2a47abb517077304ea77d1",
            "lut": "glasbey",
            "mode": "v",
            "opacity_gaussians": null,
            "point_set_colors": {
              "shape": [
                0,
                3
              ],
              "dtype": "float32"
            },
            "point_set_opacities": {
              "shape": [
                0
              ],
              "dtype": "float32"
            },
            "point_set_representations": [],
            "point_set_sizes": {
              "shape": [
                0
              ],
              "dtype": "uint8"
            },
            "point_sets": [],
            "rendered_image": null,
            "rendered_label_image": null,
            "roi": {
              "shape": [
                2,
                3
              ],
              "dtype": "float64"
            },
            "rotate": false,
            "sample_distance": 0.25,
            "select_roi": false,
            "shadow": true,
            "slicing_planes": false,
            "ui_collapsed": true,
            "units": "",
            "vmax": null,
            "vmin": null,
            "x_slice": null,
            "y_slice": null,
            "z_slice": null
          }
        },
        "efd881bb2b2a47abb517077304ea77d1": {
          "model_module": "@jupyter-widgets/base",
          "model_name": "LayoutModel",
          "model_module_version": "1.2.0",
          "state": {
            "_model_module": "@jupyter-widgets/base",
            "_model_module_version": "1.2.0",
            "_model_name": "LayoutModel",
            "_view_count": null,
            "_view_module": "@jupyter-widgets/base",
            "_view_module_version": "1.2.0",
            "_view_name": "LayoutView",
            "align_content": null,
            "align_items": null,
            "align_self": null,
            "border": null,
            "bottom": null,
            "display": null,
            "flex": null,
            "flex_flow": null,
            "grid_area": null,
            "grid_auto_columns": null,
            "grid_auto_flow": null,
            "grid_auto_rows": null,
            "grid_column": null,
            "grid_gap": null,
            "grid_row": null,
            "grid_template_areas": null,
            "grid_template_columns": null,
            "grid_template_rows": null,
            "height": null,
            "justify_content": null,
            "justify_items": null,
            "left": null,
            "margin": null,
            "max_height": null,
            "max_width": null,
            "min_height": null,
            "min_width": null,
            "object_fit": null,
            "object_position": null,
            "order": null,
            "overflow": null,
            "overflow_x": null,
            "overflow_y": null,
            "padding": null,
            "right": null,
            "top": null,
            "visibility": null,
            "width": null
          }
        },
        "0ab46c3132c840cbbf2400ea3a712230": {
          "model_module": "itkwidgets",
          "model_name": "ViewerModel",
          "model_module_version": "^0.32.3",
          "state": {
            "_custom_cmap": null,
            "_dom_classes": [],
            "_downsampling": false,
            "_largest_roi": {
              "shape": [
                2,
                3
              ],
              "dtype": "float64"
            },
            "_model_module": "itkwidgets",
            "_model_module_version": "^0.32.3",
            "_model_name": "ViewerModel",
            "_rendering_image": false,
            "_reset_crop_requested": false,
            "_scale_factors": {
              "shape": [
                3
              ],
              "dtype": "uint8"
            },
            "_view_count": null,
            "_view_module": "itkwidgets",
            "_view_module_version": "^0.32.3",
            "_view_name": "ViewerView",
            "annotations": true,
            "axes": false,
            "background": [
              1,
              1,
              1
            ],
            "blend_mode": "composite",
            "camera": {
              "shape": [
                3,
                3
              ],
              "dtype": "float32"
            },
            "channels": [],
            "clicked_slice_point": null,
            "cmap": null,
            "geometries": [
              {
                "vtkClass": "vtkPolyData",
                "points": {
                  "vtkClass": "vtkPoints",
                  "name": "_points",
                  "numberOfComponents": 3,
                  "dataType": "Float32Array",
                  "size": 3984771
                },
                "polys": {
                  "vtkClass": "vtkCellArray",
                  "name": "_polys",
                  "numberOfComponents": 1,
                  "size": 3213525,
                  "dataType": "Uint32Array"
                },
                "pointData": {
                  "vtkClass": "vtkDataSetAttributes",
                  "activeScalars": 0,
                  "activeVectors": 1,
                  "arrays": [
                    {
                      "data": {
                        "vtkClass": "vtkDataArray",
                        "name": "GlyphScale",
                        "numberOfComponents": 1,
                        "size": 1328257,
                        "dataType": "Float32Array"
                      }
                    },
                    {
                      "data": {
                        "vtkClass": "vtkDataArray",
                        "name": "GlyphVector",
                        "numberOfComponents": 3,
                        "size": 3984771,
                        "dataType": "Float32Array"
                      }
                    }
                  ]
                },
                "metadata": {
                  "name": "Geometry 0"
                }
              },
              {
                "vtkClass": "vtkPolyData",
                "points": {
                  "vtkClass": "vtkPoints",
                  "name": "_points",
                  "numberOfComponents": 3,
                  "dataType": "Float32Array",
                  "size": 32685
                },
                "lines": {
                  "vtkClass": "vtkCellArray",
                  "name": "_lines",
                  "numberOfComponents": 1,
                  "size": 95856,
                  "dataType": "Uint32Array"
                },
                "metadata": {
                  "name": "Geometry 1"
                }
              }
            ],
            "geometry_colors": {
              "shape": [
                2,
                3
              ],
              "dtype": "float32"
            },
            "geometry_opacities": {
              "shape": [
                2
              ],
              "dtype": "float32"
            },
            "gradient_opacity": 0.2,
            "interpolation": true,
            "label_image_blend": 0.5,
            "label_image_names": null,
            "label_image_weights": null,
            "layout": "IPY_MODEL_dd43bc9467a0451daf65e0ed88ffd360",
            "lut": "glasbey",
            "mode": "v",
            "opacity_gaussians": null,
            "point_set_colors": {
              "shape": [
                0,
                3
              ],
              "dtype": "float32"
            },
            "point_set_opacities": {
              "shape": [
                0
              ],
              "dtype": "float32"
            },
            "point_set_representations": [],
            "point_set_sizes": {
              "shape": [
                0
              ],
              "dtype": "uint8"
            },
            "point_sets": [],
            "rendered_image": null,
            "rendered_label_image": null,
            "roi": {
              "shape": [
                2,
                3
              ],
              "dtype": "float64"
            },
            "rotate": false,
            "sample_distance": 0.25,
            "select_roi": false,
            "shadow": true,
            "slicing_planes": false,
            "ui_collapsed": true,
            "units": "",
            "vmax": null,
            "vmin": null,
            "x_slice": null,
            "y_slice": null,
            "z_slice": null
          }
        },
        "dd43bc9467a0451daf65e0ed88ffd360": {
          "model_module": "@jupyter-widgets/base",
          "model_name": "LayoutModel",
          "model_module_version": "1.2.0",
          "state": {
            "_model_module": "@jupyter-widgets/base",
            "_model_module_version": "1.2.0",
            "_model_name": "LayoutModel",
            "_view_count": null,
            "_view_module": "@jupyter-widgets/base",
            "_view_module_version": "1.2.0",
            "_view_name": "LayoutView",
            "align_content": null,
            "align_items": null,
            "align_self": null,
            "border": null,
            "bottom": null,
            "display": null,
            "flex": null,
            "flex_flow": null,
            "grid_area": null,
            "grid_auto_columns": null,
            "grid_auto_flow": null,
            "grid_auto_rows": null,
            "grid_column": null,
            "grid_gap": null,
            "grid_row": null,
            "grid_template_areas": null,
            "grid_template_columns": null,
            "grid_template_rows": null,
            "height": null,
            "justify_content": null,
            "justify_items": null,
            "left": null,
            "margin": null,
            "max_height": null,
            "max_width": null,
            "min_height": null,
            "min_width": null,
            "object_fit": null,
            "object_position": null,
            "order": null,
            "overflow": null,
            "overflow_x": null,
            "overflow_y": null,
            "padding": null,
            "right": null,
            "top": null,
            "visibility": null,
            "width": null
          }
        }
      }
    }
  },
  "nbformat": 4,
  "nbformat_minor": 0
}