{
 "cells": [
  {
   "cell_type": "markdown",
   "id": "3d2a893d",
   "metadata": {},
   "source": [
    "# Waveguides\n",
    "\n",
    "The goal of thiss notebook is to investigate the fields created in waveguides.  It complements the material in Chapter 7 of _Classical Electromagnetic Radiation_ by Marion and Heald.\n",
    "\n",
    "A ***mode*** of a waveguide is an allowed solution of Maxwell's equations.  We will investigate the following types of modes:\n",
    "\n",
    "- TEM\n",
    "- TE\n",
    "- TM"
   ]
  },
  {
   "cell_type": "code",
   "execution_count": null,
   "id": "40923f10",
   "metadata": {},
   "outputs": [],
   "source": [
    "import numpy as np\n",
    "import matplotlib.pyplot as plt\n",
    "\n",
    "# This will give interactive plots within the notebook.\n",
    "# %matplotlib notebook\n",
    "\n",
    "# This will make interactive plots pop up in a separate window.\n",
    "# It probably will not work in CoLab.\n",
    "# %matplotlib tk\n",
    "\n",
    "# This will yield static, inline plots.  The default.\n",
    "# %matplotlib inline"
   ]
  },
  {
   "cell_type": "code",
   "execution_count": null,
   "id": "9b799225",
   "metadata": {},
   "outputs": [],
   "source": [
    "# Define color scheme.\n",
    "e_color = '#377eb8'\n",
    "b_color = '#ff7f00'\n",
    "s_color = '#4daf4a'"
   ]
  },
  {
   "cell_type": "code",
   "execution_count": null,
   "id": "a25c3de6",
   "metadata": {},
   "outputs": [],
   "source": [
    "# Create a grid.\n",
    "Lx = 2\n",
    "Nx = 5\n",
    "Ly = 2\n",
    "Ny = 5\n",
    "Lz = 4\n",
    "Nz = 9\n",
    "\n",
    "x = np.linspace(0, Lx, Nx)\n",
    "y = np.linspace(0, Ly, Ny)\n",
    "z = np.linspace(0, Lz, Nz)\n",
    "X, Y, Z = np.meshgrid(x,y,z)\n",
    "\n",
    "# Group all coordinates into a single array.\n",
    "R = np.stack((X,Y,Z))"
   ]
  },
  {
   "cell_type": "code",
   "execution_count": null,
   "id": "ad6866e8",
   "metadata": {},
   "outputs": [],
   "source": [
    "# Define the material.\n",
    "mu = 1\n",
    "epsilon = 1\n",
    "n = np.sqrt(mu*epsilon)"
   ]
  },
  {
   "cell_type": "markdown",
   "id": "efd6ca42",
   "metadata": {},
   "source": [
    "## TEM Modes\n",
    "\n",
    "TEM modes are guided electromagnetic waves in which the electric and magnetic field are perpendicular to the direction of propagation.  The name stands for \"transverse electromagnetic\" and refers to the fact that both the electric field and magnetic field are perpendicular to the direction of propagation.\n",
    "\n",
    "Plane waves are TEM modes, but not all TEM modes are plane waves.  Here, we analyze the TEM modes that can propagate between a set of parallel conducting plates.  See Section 7.2 of _CER_ for a detailed theoretical background.\n",
    "\n",
    "We consider modes where the electric field is parallel to the conducting plates.  These can be described as a superposition of two plane waves within the waveguide.  The amplitudes of the waves are equal, but they are out of phase and travel in different directions:\n",
    "$$\n",
    "\\vec{k}_1 = \\begin{bmatrix} 0 \\\\ - k_0 \\cos \\theta \\\\ + k_0 \\sin \\theta \\end{bmatrix}\n",
    "\\qquad \\qquad\n",
    "\\vec{k}_2 = \\begin{bmatrix} 0 \\\\ + k_0 \\cos \\theta \\\\ + k_0 \\sin \\theta \\end{bmatrix}\n",
    "$$\n",
    "\n",
    "The magnetic field and Poynting vector are computed as with plane waves.\n",
    "\n",
    "Let's look at some of these modes."
   ]
  },
  {
   "cell_type": "code",
   "execution_count": null,
   "id": "33e824dd",
   "metadata": {},
   "outputs": [],
   "source": [
    "# Define convenience function to compute fields.\n",
    "def get_plane_wave(E0,k,R,n=1,t=0):\n",
    "    \"\"\"\n",
    "    Return electric and magnetic field arrays for an\n",
    "    electromagnetic plane wave.\n",
    "    \n",
    "    E0 = [Ex, Ey, Ez]  (amplitude and polarization)\n",
    "    k =  [kx, ky, kz]  (wave vector)\n",
    "    R  = [X, Y, Z]     (coordinate arrays)\n",
    "    n                  (index of refraction)\n",
    "    t                  (time)\n",
    "    \n",
    "    Returns\n",
    "    (E,B) where\n",
    "    E = [Ex, Ey, Ez]\n",
    "    B = [Bx, By, Bz]\n",
    "    \"\"\"\n",
    "    \n",
    "    # Create empty arrays of the correct shape.\n",
    "    E = np.zeros_like(R, dtype=complex)\n",
    "    B = np.zeros_like(R, dtype=complex)\n",
    "    \n",
    "    # Compute phase of the plane wave.\n",
    "    k0 = np.sqrt(np.sum(k**2))\n",
    "    omega = k0/n\n",
    "    phase = np.exp(1j*(k[0]*R[0] + k[1]*R[1] + k[2]*R[2] - omega*t))\n",
    "\n",
    "    # Compute the electric field.\n",
    "    E[0] = E0[0] * phase\n",
    "    E[1] = E0[1] * phase\n",
    "    E[2] = E0[2] * phase\n",
    "    \n",
    "    # Compute the magnetic field.\n",
    "    B[0] = (k[1]*E[2] - k[2]*E[1])/omega\n",
    "    B[1] = (k[2]*E[0] - k[0]*E[2])/omega\n",
    "    B[2] = (k[0]*E[1] - k[1]*E[0])/omega\n",
    "    \n",
    "    # Return the result.\n",
    "    return E,B"
   ]
  },
  {
   "cell_type": "code",
   "execution_count": null,
   "id": "1f709ef8",
   "metadata": {},
   "outputs": [],
   "source": [
    "# Define the wave vector.\n",
    "# Give magnitude and angle of incidence (in radians).\n",
    "k = 6\n",
    "theta = np.radians(45)\n",
    "omega = k/n\n",
    "\n",
    "# Set wave vector of incident wave.\n",
    "k1x = 0\n",
    "k1y = -k * np.cos(theta)\n",
    "k1z = k * np.sin(theta)\n",
    "k1 = np.array([k1x, k1y, k1z])\n",
    "\n",
    "# Set wave vector of reflected wave.\n",
    "k2x = 0\n",
    "k2y = k * np.cos(theta)\n",
    "k2z = k * np.sin(theta)\n",
    "k2 = np.array([k2x, k2y, k2z])\n",
    "\n",
    "# Set time of snapshot.\n",
    "t0 = 2*np.pi / k * 0.00\n",
    "\n",
    "# Define the electric field, magnetic field, and Poynting vector\n",
    "# for an electromagnetic plane wave.\n",
    "\n",
    "# Give initial direction of electric field.\n",
    "# Everything else is determined by this.\n",
    "# Set the amplitude and polarization.\n",
    "E0 = 0.3\n",
    "eHat = np.array([1,0,0])\n",
    "\n",
    "e1 = E0 * eHat \n",
    "e2 = -e1\n",
    "\n",
    "E1, B1 = get_plane_wave(e1,k1,R)\n",
    "E2, B2 = get_plane_wave(e2,k2,R)\n",
    "\n",
    "# Compute total electromagnetic field.\n",
    "Ex = E1[0] + E2[0]\n",
    "Ey = E1[1] + E2[1]\n",
    "Ez = E1[2] + E2[2]\n",
    "\n",
    "Bx = B1[0] + B2[0]\n",
    "By = B1[1] + B2[1]\n",
    "Bz = B1[2] + B2[2]\n",
    "\n",
    "# Compute total Poynting vector.\n",
    "Sx = 1/(8*np.pi*mu) * (Ey * Bz.conj() - Ez * By.conj())\n",
    "Sy = 1/(8*np.pi*mu) * (Ez * Bx.conj() - Ex * Bz.conj())\n",
    "Sz = 1/(8*np.pi*mu) * (Ex * By.conj() - Ey * Bx.conj())"
   ]
  },
  {
   "cell_type": "code",
   "execution_count": null,
   "id": "db9b5f82",
   "metadata": {},
   "outputs": [],
   "source": [
    "# Plot the field.\n",
    "s_scale = 20\n",
    "\n",
    "fig = plt.figure(dpi=300)\n",
    "ax = fig.add_subplot(projection='3d')\n",
    "ax.quiver3D(X,Y,Z, Ex.real, Ey.real, Ez.real, pivot='middle',\n",
    "            linewidth=0.5, color=e_color, label='Electric Field')\n",
    "ax.quiver3D(X,Y,Z, Bx.real, By.real, Bz.real, pivot='middle',\n",
    "            linewidth=0.5, color=b_color, label='Magnetic Field')\n",
    "ax.quiver3D(X,Y,Z, s_scale*Sx.real, s_scale*Sy.real, s_scale*Sz.real, pivot='middle',\n",
    "            linewidth=0.5, color=s_color, label='Poynting Vector x %d' % s_scale)\n",
    "ax.scatter3D(X,Y,Z,'.',s=1,c='k',alpha=0.4)\n",
    "ax.set_xlabel('X')\n",
    "ax.set_ylabel('Y')\n",
    "ax.set_zlabel('Z')\n",
    "ax.auto_scale_xyz([0, Lz], [0, Lz], [0, Lz])\n",
    "ax.view_init(20,40)\n",
    "ax.legend()"
   ]
  },
  {
   "cell_type": "markdown",
   "id": "f49a9795",
   "metadata": {},
   "source": [
    "## Questions\n",
    "\n",
    "Describe the field pattern.\n",
    "- In what direction does the electric field point? The magnetic field? The Poynting vector?\n",
    "- How do the fields change with position?\n",
    "- Where is the electric field largest?\n",
    "- Where is the Poynting vector largest? Smallest?\n",
    "\n",
    "***Describe your observations below.***"
   ]
  },
  {
   "cell_type": "markdown",
   "id": "0158573e",
   "metadata": {},
   "source": [
    "REPLACE WITH YOUR RESPONSE."
   ]
  },
  {
   "cell_type": "markdown",
   "id": "43ef80e8",
   "metadata": {},
   "source": [
    "- Observe what happens as you change the wave vector, `k`.\n",
    "- Observe what happens as you change the angle of incidence, `theta`.\n",
    "\n",
    "***Describe your observations below.***"
   ]
  },
  {
   "cell_type": "markdown",
   "id": "b5614ee4",
   "metadata": {},
   "source": [
    "REPLACE WITH YOUR RESPONSE."
   ]
  },
  {
   "cell_type": "markdown",
   "id": "f38f8a8e",
   "metadata": {},
   "source": [
    "In order to satisfy the boundary conditions of this wave guide, the electric field should vanish on the conducting plates at $y=0$ and $y=b$ (or `y = box_width`.  (Other waves do not satisfy Maxwell's equations.  Although we can plot them, they are impossible to create in the real world.)\n",
    "\n",
    "Adjust the ***angle*** and ***wave vector*** until you achieve this.\n",
    "\n",
    "You may find the discussion on page 233 of _CER_ helpful ...\n",
    "\n",
    "**Congratulations!**  You just created a TEM mode for this waveguide.\n",
    "\n",
    "- What wave vector and angle did you use?\n",
    "- How do the fields compare with your general observations above?  I.e., is there anything special about this field, aside from the fact that the electric field vanishes at the boundaries?\n",
    "\n",
    "***Describe your observations below.***"
   ]
  },
  {
   "cell_type": "markdown",
   "id": "6497b23f",
   "metadata": {},
   "source": [
    "REPLACE WITH YOUR RESPONSE."
   ]
  },
  {
   "cell_type": "markdown",
   "id": "290849b6",
   "metadata": {},
   "source": [
    "Keep the magnitude of the wave vector constant, but adjust the ***angle*** until you find another value that gives zero field on the boundaries at $y=0$ and $y=b$.\n",
    "\n",
    "- What wave vector and angle did you use this time?\n",
    "- How do the fields for this TEM mode compare with your first TEM mode?\n",
    "\n",
    "***Describe your observations below.***"
   ]
  },
  {
   "cell_type": "markdown",
   "id": "9bf3f512",
   "metadata": {},
   "source": [
    "REPLACE WITH YOUR RESPONSE."
   ]
  },
  {
   "cell_type": "markdown",
   "id": "c5262068",
   "metadata": {},
   "source": [
    "## TE Modes\n",
    "\n",
    "Now we will turn our attention to a different kind of waveguide: a hollow pipe.  As shown in _CER_ at the end of Section 7.3, there are no possible TEM modes in a hollow pipe.  However, we can find TE modes — in which the electric field is perpendicular to the direction of propagation but the magnetic field is not — and TM modes — in which the magnetic field is perpendicular to the direction of propagation and the electric field is not.  We focus on the rectangular waveguide of Section 7.5.\n",
    "\n",
    "In a \"remarkable set of equations\" (7.52–55), Heald and Marion show that all of the components of the electric and magnetic fields can be obtained from the longitudinal components, $B_z$ and $E_z$.  For a TE mode, $E_z = 0$, and for a TM mode, $B_z=0$.  So we only need to know one component of the field to solve for the entire set.\n",
    "\n",
    "For TE modes, the normal derivative of the longitudinal magnetic field must vanish on the boundaries.  This gives\n",
    "\n",
    "$$\n",
    "B_z = B_0 \\, e^{i(k_z z - \\omega t)} \\, \\cos \\left( \\dfrac{M \\pi x}{a} \\right) \\, \\cos\\left( \\dfrac{N \\pi y}{b} \\right)\n",
    "$$\n",
    "\n",
    "$M$ and $N$ are positive integers. $a$ and $b$ are the length and width of the rectangle.  The code below will generate a field plot for a single TE mode."
   ]
  },
  {
   "cell_type": "code",
   "execution_count": null,
   "id": "c6f203c9",
   "metadata": {},
   "outputs": [],
   "source": [
    "t = 0\n",
    "\n",
    "# Define the mode.\n",
    "M = 0\n",
    "N = 1\n",
    "\n",
    "# Define the longitudinal wave vector.\n",
    "kz = np.pi / 2\n",
    "\n",
    "# Determine compute the transverse wave vector and frequency.\n",
    "a = Lx\n",
    "b = Ly\n",
    "kx = M*np.pi/a\n",
    "ky = N*np.pi/b\n",
    "omega = np.sqrt(kx**2 + ky**2 + kz**2) / n\n",
    "\n",
    "# Define group and cutoff wavenumbers.\n",
    "kg = kz\n",
    "kc = np.sqrt(kx**2 + ky**2)\n",
    "\n",
    "# Define longitudinal magnetic field.\n",
    "B0 = 0.7\n",
    "Bz = B0 * np.exp(1j*(kz*Z - omega*t)) * np.cos(M*np.pi*X/a) * np.cos(N*np.pi*Y/b)\n",
    "\n",
    "# Compute other components of fields.\n",
    "Bx = -1j * kg * kx / kc**2 * B0 * np.exp(1j*(kz*Z - omega*t)) \\\n",
    "    * np.sin(M*np.pi*X/a) * np.cos(N*np.pi*Y/b)\n",
    "By = -1j * kg * ky / kc**2 * B0 * np.exp(1j*(kz*Z - omega*t)) \\\n",
    "    * np.cos(M*np.pi*X/a) * np.sin(N*np.pi*Y/b)\n",
    "Ex = n*omega / kg * By\n",
    "Ey = -n*omega / kg * Bx\n",
    "Ez = np.zeros_like(Bz)\n",
    "\n",
    "# Compute total Poynting vector.\n",
    "Sx = 1/(8*np.pi*mu) * (Ey * Bz.conj() - Ez * By.conj())\n",
    "Sy = 1/(8*np.pi*mu) * (Ez * Bx.conj() - Ex * Bz.conj())\n",
    "Sz = 1/(8*np.pi*mu) * (Ex * By.conj() - Ey * Bx.conj())"
   ]
  },
  {
   "cell_type": "code",
   "execution_count": null,
   "id": "f3833515",
   "metadata": {},
   "outputs": [],
   "source": [
    "# Plot the field.\n",
    "s_scale = 20\n",
    "\n",
    "fig = plt.figure(dpi=300)\n",
    "ax = fig.add_subplot(projection='3d')\n",
    "ax.quiver3D(X,Y,Z, Ex.real, Ey.real, Ez.real, pivot='middle',\n",
    "            linewidth=0.5, color=e_color, label='Electric Field')\n",
    "ax.quiver3D(X,Y,Z, Bx.real, By.real, Bz.real, pivot='middle',\n",
    "            linewidth=0.5, color=b_color, label='Magnetic Field')\n",
    "ax.quiver3D(X,Y,Z, s_scale*Sx.real, s_scale*Sy.real, s_scale*Sz.real, pivot='middle',\n",
    "            linewidth=0.5, color=s_color, label='Poynting Vector x %d' % s_scale)\n",
    "ax.scatter3D(X,Y,Z,'.',s=1,c='k',alpha=0.4)\n",
    "ax.set_xlabel('X')\n",
    "ax.set_ylabel('Y')\n",
    "ax.set_zlabel('Z')\n",
    "ax.auto_scale_xyz([0, Lz], [0, Lz], [0, Lz])\n",
    "ax.view_init(20,40)\n",
    "ax.legend()"
   ]
  },
  {
   "cell_type": "markdown",
   "id": "4aa1e794",
   "metadata": {},
   "source": [
    "## Questions\n",
    "\n",
    "Start with $M=1$ and $N=0$ — the TE₁₀ mode.  Change the longitudinal wave vector $k_z$ (the variable `kz` above).\n",
    "\n",
    "Describe the field pattern.\n",
    "- In what direction does the electric field point? The magnetic field? The Poynting vector?\n",
    "- How do the fields change with position?\n",
    "- Where is the electric field largest?\n",
    "- Where is the Poynting vector largest? The smallest?\n",
    "\n",
    "***Describe your observations below.***"
   ]
  },
  {
   "cell_type": "markdown",
   "id": "ebb0552a",
   "metadata": {},
   "source": [
    "REPLACE WITH YOUR RESPONSE."
   ]
  },
  {
   "cell_type": "markdown",
   "id": "8fcdf057",
   "metadata": {},
   "source": [
    "Adjust the box dimensions by changing `Lx` and `Ly` in the cell near the top of the notebook and replotting.\n",
    "\n",
    "How does the field pattern change?\n",
    "\n",
    "***Describe your observations below.***"
   ]
  },
  {
   "cell_type": "markdown",
   "id": "8e2c390a",
   "metadata": {},
   "source": [
    "REPLACE WITH YOUR RESPONSE."
   ]
  },
  {
   "cell_type": "markdown",
   "id": "780750ee",
   "metadata": {},
   "source": [
    "Compare the TE₁₀ and TE₀₁ modes.  How are they similar?  How are they different?\n",
    "\n",
    "***Describe your observations below.***"
   ]
  },
  {
   "cell_type": "markdown",
   "id": "423b8316",
   "metadata": {},
   "source": [
    "REPLACE WITH YOUR RESPONSE."
   ]
  },
  {
   "cell_type": "markdown",
   "id": "92b97ec4",
   "metadata": {},
   "source": [
    "Compare the TE₁₀ and TE₀₁ modes to the TE₁₁ mode.  How are they similar?  How are they different?\n",
    "\n",
    "***Describe your observations below.***"
   ]
  },
  {
   "cell_type": "markdown",
   "id": "38f437c1",
   "metadata": {},
   "source": [
    "REPLACE WITH YOUR RESPONSE."
   ]
  },
  {
   "cell_type": "markdown",
   "id": "64bf316e",
   "metadata": {},
   "source": [
    "## TM Modes\n",
    "\n",
    "For TM modes, the longitudinal electric field must vanish on the boundaries.  This gives\n",
    "\n",
    "$$\n",
    "E_z = E_0 \\, e^{i(k_z z - \\omega t)} \\, \\sin \\left( \\dfrac{M \\pi x}{a} \\right) \\, \\sin\\left( \\dfrac{N \\pi y}{b} \\right)\n",
    "$$\n",
    "\n",
    "$M$ and $N$ are positive integers. $a$ and $b$ are the length and width of the rectangle.  The code below will generate a field plot for a single TM mode."
   ]
  },
  {
   "cell_type": "code",
   "execution_count": null,
   "id": "51a6f667",
   "metadata": {},
   "outputs": [],
   "source": [
    "t = 0\n",
    "\n",
    "# Define the mode.\n",
    "M = 1\n",
    "N = 1\n",
    "\n",
    "# Define the longitudinal wave vector.\n",
    "kz = np.pi / 2\n",
    "\n",
    "# Determine compute the transverse wave vector and frequency.\n",
    "a = Lx\n",
    "b = Ly\n",
    "kx = M*np.pi/a\n",
    "ky = N*np.pi/b\n",
    "omega = np.sqrt(kx**2 + ky**2 + kz**2) / n\n",
    "\n",
    "# Define group and cutoff wavenumbers.\n",
    "kg = kz\n",
    "kc = np.sqrt(kx**2 + ky**2)\n",
    "\n",
    "# Define longitudinal electric field.\n",
    "E0 = 0.7\n",
    "Ez = E0 * np.exp(1j*(kz*Z - omega*t)) * np.sin(M*np.pi*X/a) * np.sin(N*np.pi*Y/b)\n",
    "\n",
    "# Compute other components of fields.\n",
    "Ex = 1j * kg * kx / kc**2 * E0 * np.exp(1j*(kz*Z - omega*t)) \\\n",
    "    * np.cos(M*np.pi*X/a) * np.sin(N*np.pi*Y/b)\n",
    "Ey = 1j * kg * ky / kc**2 * E0 * np.exp(1j*(kz*Z - omega*t)) \\\n",
    "    * np.sin(M*np.pi*X/a) * np.cos(N*np.pi*Y/b)\n",
    "Bx = -n*omega / kg * Ey\n",
    "By = n*omega / kg * Ex\n",
    "Bz = np.zeros_like(Ez)\n",
    "\n",
    "# Compute total Poynting vector.\n",
    "Sx = 1/(8*np.pi*mu) * (Ey * Bz.conj() - Ez * By.conj())\n",
    "Sy = 1/(8*np.pi*mu) * (Ez * Bx.conj() - Ex * Bz.conj())\n",
    "Sz = 1/(8*np.pi*mu) * (Ex * By.conj() - Ey * Bx.conj())"
   ]
  },
  {
   "cell_type": "code",
   "execution_count": null,
   "id": "9bfd6e6d",
   "metadata": {},
   "outputs": [],
   "source": [
    "# Plot the field.\n",
    "s_scale = 50\n",
    "\n",
    "fig = plt.figure(dpi=300)\n",
    "ax = fig.add_subplot(projection='3d')\n",
    "ax.quiver3D(X,Y,Z, Ex.real, Ey.real, Ez.real, pivot='middle',\n",
    "            linewidth=0.5, color=e_color, label='Electric Field')\n",
    "ax.quiver3D(X,Y,Z, Bx.real, By.real, Bz.real, pivot='middle',\n",
    "            linewidth=0.5, color=b_color, label='Magnetic Field')\n",
    "ax.quiver3D(X,Y,Z, s_scale*Sx.real, s_scale*Sy.real, s_scale*Sz.real, pivot='middle',\n",
    "            linewidth=0.5, color=s_color, label='Poynting Vector x %d' % s_scale)\n",
    "ax.scatter3D(X,Y,Z,'.',s=1,c='k',alpha=0.4)\n",
    "ax.set_xlabel('X')\n",
    "ax.set_ylabel('Y')\n",
    "ax.set_zlabel('Z')\n",
    "ax.auto_scale_xyz([0, Lz], [0, Lz], [0, Lz])\n",
    "ax.view_init(20,40)\n",
    "ax.legend()"
   ]
  },
  {
   "cell_type": "code",
   "execution_count": null,
   "id": "4b113397",
   "metadata": {},
   "outputs": [],
   "source": [
    "%matplotlib notebook"
   ]
  },
  {
   "cell_type": "markdown",
   "id": "7d592988",
   "metadata": {},
   "source": [
    "## Questions\n",
    "\n",
    "Start with $M=1$ and $N=1$ — the TE₁₁ mode.  Change the longitudinal wave vector $k_z$ (the variable `kz` above).\n",
    "\n",
    "Describe the field pattern.\n",
    "- In what direction does the electric field point? The magnetic field? The Poynting vector?\n",
    "- How do the fields change with position?\n",
    "- Where is the electric field largest?\n",
    "- Where is the Poynting vector largest? The smallest?\n",
    "\n",
    "***Describe your observations below.***"
   ]
  },
  {
   "cell_type": "markdown",
   "id": "39c862c6",
   "metadata": {},
   "source": [
    "REPLACE WITH YOUR RESPONSE."
   ]
  },
  {
   "cell_type": "markdown",
   "id": "3278cfab",
   "metadata": {},
   "source": [
    "Adjust the box dimensions by changing `Lx` and `Ly` in the cell near the top of the notebook and replotting.\n",
    "\n",
    "How does the field pattern change?\n",
    "\n",
    "***Describe your observations below.***"
   ]
  },
  {
   "cell_type": "markdown",
   "id": "c2f9b190",
   "metadata": {},
   "source": [
    "REPLACE WITH YOUR RESPONSE."
   ]
  },
  {
   "cell_type": "markdown",
   "id": "56882c62",
   "metadata": {},
   "source": [
    "Compare the TE₁₀ and TE₀₁ modes to the TE₁₁ mode.  How are they similar?  How are they different?\n",
    "\n",
    "***Describe your observations below.***"
   ]
  },
  {
   "cell_type": "markdown",
   "id": "6ffbe80a",
   "metadata": {},
   "source": [
    "REPLACE WITH YOUR RESPONSE."
   ]
  },
  {
   "cell_type": "markdown",
   "id": "6327989a",
   "metadata": {},
   "source": [
    "Compare the TE₁₂ and TE₂₁ modes to the TE₁₁ mode.  How are they similar?  How are they different?\n",
    "\n",
    "***Describe your observations below.***"
   ]
  },
  {
   "cell_type": "markdown",
   "id": "13bfd453",
   "metadata": {},
   "source": [
    "REPLACE WITH YOUR RESPONSE."
   ]
  },
  {
   "cell_type": "markdown",
   "id": "d7c90b13",
   "metadata": {},
   "source": [
    "## Images of Fields\n",
    "\n",
    "Compare the image of a TEM mode in Figure 7-3 with the plots you made above.\n",
    "\n",
    "- How are they similar?  How are they different?\n",
    "- Is one a \"better\" representation of the electromagnetic wave than the other, in your opinion?  Explain why or why not.\n",
    "\n",
    "***Describe your observations below.***"
   ]
  },
  {
   "cell_type": "markdown",
   "id": "ff28c5e8",
   "metadata": {},
   "source": [
    "REPLACE WITH YOUR RESPONSE."
   ]
  },
  {
   "attachments": {},
   "cell_type": "markdown",
   "id": "8a246bb6",
   "metadata": {},
   "source": [
    "Try to create a plot of the TEM₁₀ that resembles Figure 7-6.  You may need to adjust the box size, number of grid points, and arrow sizes.\n",
    "\n",
    "- Is one a \"better\" representation of the electromagnetic wave than the other, in your opinion?  Explain why or why not."
   ]
  },
  {
   "cell_type": "markdown",
   "id": "ea3c0899",
   "metadata": {},
   "source": [
    "REPLACE WITH YOUR RESPONSE."
   ]
  },
  {
   "cell_type": "markdown",
   "id": "f6e72ea1",
   "metadata": {},
   "source": [
    "In your opinion what would be the ideal way to represent the electromagnetic waves in a waveguide?  It could be a combination of images, math, text, audio, video, etc.  What features would you emphasize?  What would you leave out?"
   ]
  },
  {
   "cell_type": "markdown",
   "id": "6ea2bd57",
   "metadata": {},
   "source": [
    "REPLACE WITH YOUR RESPONSE."
   ]
  },
  {
   "cell_type": "markdown",
   "id": "672834ea",
   "metadata": {},
   "source": [
    "# Reflection and Summary\n",
    "\n",
    "- What are the major takeaways of this assignment for you?\n",
    "- What was the most difficult part of this assignment?\n",
    "- What was the most interesting part of this assignment?\n",
    "- What questions do you have?"
   ]
  },
  {
   "cell_type": "markdown",
   "id": "386a0011",
   "metadata": {},
   "source": [
    "***Replace with your response.***"
   ]
  }
 ],
 "metadata": {
  "kernelspec": {
   "display_name": "Python 3 (ipykernel)",
   "language": "python",
   "name": "python3"
  },
  "language_info": {
   "codemirror_mode": {
    "name": "ipython",
    "version": 3
   },
   "file_extension": ".py",
   "mimetype": "text/x-python",
   "name": "python",
   "nbconvert_exporter": "python",
   "pygments_lexer": "ipython3",
   "version": "3.10.6"
  }
 },
 "nbformat": 4,
 "nbformat_minor": 5
}
