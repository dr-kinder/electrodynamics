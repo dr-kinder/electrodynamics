{
 "cells": [
  {
   "cell_type": "markdown",
   "id": "47ba37d2",
   "metadata": {
    "colab_type": "text",
    "id": "view-in-github"
   },
   "source": [
    "<a href=\"https://colab.research.google.com/github/dr-kinder/playground/blob/master/poisson-with-fenicsx.ipynb\" target=\"_parent\"><img src=\"https://colab.research.google.com/assets/colab-badge.svg\" alt=\"Open In Colab\"/></a>"
   ]
  },
  {
   "cell_type": "markdown",
   "id": "TfAjak0-qO4X",
   "metadata": {
    "id": "TfAjak0-qO4X"
   },
   "source": [
    "# The Finite Element Method\n",
    "\n",
    "To solve hard electrodynamics problems, we are going to use the finite element method.  This tutorial will help you get familiar with the process.\n",
    "\n",
    "## Acknowledgements\n",
    "\n",
    "The installation commands below come from the [FEM on CoLab](https://fem-on-colab.github.io/index.html) project.\n",
    "\n",
    "This tutorial was adapted from \"Solving the Poisson Equation\" in [The FEniCSx Tutorial](https://jorgensd.github.io/dolfinx-tutorial/chapter1/fundamentals.html).\n",
    "\n",
    "Thanks to all of the contributors to these projects!\n",
    "\n",
    "## FEniCSx, GMSH, and Multiphenicsx\n",
    "\n",
    "The finite element method involves a lot of numerical methods that would be difficult for us to build from scratch.  Instead, we will draw from a few open-source projects with state-of-the-art implementations.\n",
    "\n",
    "- [**FEniCSx**](https://fenicsproject.org/) is the workhorse of our finite element calculations.\n",
    "- [**Gmsh**](https://gmsh.info/) is a library we will use to define the geometry of the systems under study.  It is used in some computer-aided drafting (CAD) applications, too.\n",
    "- [**Multiphenicsx**](https://github.com/multiphenics/multiphenicsx) is a package built on top of FEniCSx with some nice functions for plotting finite element meshes, scalar functions, and vector fields.\n",
    "\n",
    "The code in the next three cells will install these three packages within your CoLab session.\n",
    "\n",
    "The `try ... except` lines below will attempt to import the libraries we need.  If they are not found, they will download and install the libraries.  These commands have been tested on CoLab.  They probably won't work properly elsewhere.\n",
    "\n",
    "It takes a little while to download and install the libraries, so hit \"Play\" on the next three cells, relax and grab a cup of coffee, and finish checking your email.  Then get ready to solve some boundary value problems!"
   ]
  },
  {
   "cell_type": "code",
   "execution_count": null,
   "id": "7EUMPSN5-gkh",
   "metadata": {
    "id": "7EUMPSN5-gkh"
   },
   "outputs": [],
   "source": [
    "try:\n",
    "    # Import gmsh library for generating meshes.\n",
    "    import gmsh\n",
    "except ImportError:\n",
    "    # If it is not available, install it.  Then import it.\n",
    "    !wget \"https://fem-on-colab.github.io/releases/gmsh-install.sh\" -O \"/tmp/gmsh-install.sh\" && bash \"/tmp/gmsh-install.sh\"\n",
    "    import gmsh"
   ]
  },
  {
   "cell_type": "code",
   "execution_count": null,
   "id": "mediterranean-century",
   "metadata": {
    "id": "mediterranean-century"
   },
   "outputs": [],
   "source": [
    "try:\n",
    "    # Import FEniCSx libraries for finite element analysis.\n",
    "    import dolfinx\n",
    "except ImportError:\n",
    "    # If they are not found, install them.  Then import them.\n",
    "    !wget \"https://fem-on-colab.github.io/releases/fenicsx-install-real.sh\" -O \"/tmp/fenicsx-install.sh\" && bash \"/tmp/fenicsx-install.sh\"\n",
    "    import dolfinx"
   ]
  },
  {
   "cell_type": "code",
   "execution_count": null,
   "id": "WbKnhYd_hJHf",
   "metadata": {
    "id": "WbKnhYd_hJHf"
   },
   "outputs": [],
   "source": [
    "try:\n",
    "    # Import multiphenicsx, mainly for plotting.\n",
    "    import multiphenicsx\n",
    "except ImportError:\n",
    "    # If they are not found, install them.\n",
    "    !pip3 install \"multiphenicsx@git+https://github.com/multiphenics/multiphenicsx.git@8b97b4e\"\n",
    "    import multiphenicsx"
   ]
  },
  {
   "cell_type": "markdown",
   "id": "oj1SSuMXJytW",
   "metadata": {
    "id": "oj1SSuMXJytW"
   },
   "source": [
    "Everything we need should be installed now!\n",
    "\n",
    "If you \"Restart runtime\" from the \"Runtime\" menu, all of your data will be reset, but the packages will remain installed.\n",
    "\n",
    "Let's load the packages we need, and get started!"
   ]
  },
  {
   "cell_type": "code",
   "execution_count": null,
   "id": "QbcHvDwImO1j",
   "metadata": {
    "id": "QbcHvDwImO1j"
   },
   "outputs": [],
   "source": [
    "# Everything should be installed now.\n",
    "# Import the rest of what we need.\n",
    "\n",
    "import dolfinx.fem\n",
    "import dolfinx.io\n",
    "import gmsh\n",
    "import mpi4py.MPI\n",
    "import numpy as np\n",
    "import petsc4py.PETSc\n",
    "import ufl\n",
    "import multiphenicsx.fem\n",
    "import multiphenicsx.io"
   ]
  },
  {
   "cell_type": "markdown",
   "id": "X8SRNVQWkygC",
   "metadata": {
    "id": "X8SRNVQWkygC"
   },
   "source": [
    "## Create a Model\n",
    "\n",
    "We are going to solve the Poisson equation for charged wire inside a grounded, conducting cylinder.  We will assume the cylinder and wire are long enough that we can ignore any variation along the axis of the cylinder and wire, and we focus our attention on a 2D cross section.\n",
    "\n",
    "Thus, we need a circular disk as our space, and we need to identify the points on the boundary, so we can set them equal to zero.\n",
    "\n",
    "The Gmsh package will allow us to do this.\n",
    "\n",
    "Don't just run the following code.  Read through it and try to figure out how it works."
   ]
  },
  {
   "cell_type": "code",
   "execution_count": null,
   "id": "Lfj3ZEb1mRIq",
   "metadata": {
    "id": "Lfj3ZEb1mRIq"
   },
   "outputs": [],
   "source": [
    "# Define the center of the circle.\n",
    "x0 = 0\n",
    "y0 = 0\n",
    "z0 = 0\n",
    "\n",
    "# Define the radius of the circle.\n",
    "r0 = 3\n",
    "\n",
    "# Tell the modeling program how many dimensions we are using.\n",
    "dim = 2\n",
    "\n",
    "# Grid size parameter.  Make it smaller for higher resolution.\n",
    "delta = 0.2"
   ]
  },
  {
   "cell_type": "code",
   "execution_count": null,
   "id": "yXQ26STZpQwn",
   "metadata": {
    "id": "yXQ26STZpQwn"
   },
   "outputs": [],
   "source": [
    "# Create a model.\n",
    "gmsh.initialize()\n",
    "gmsh.model.add(\"mesh\")"
   ]
  },
  {
   "cell_type": "code",
   "execution_count": null,
   "id": "Px1ulTvz0b-6",
   "metadata": {
    "id": "Px1ulTvz0b-6"
   },
   "outputs": [],
   "source": [
    "# Define points: center of circle and two points on opposite sides.\n",
    "p0 = gmsh.model.geo.addPoint(x0,y0, z0, delta)\n",
    "p1 = gmsh.model.geo.addPoint(x0, y0-r0, z0, delta)\n",
    "p2 = gmsh.model.geo.addPoint(x0, y0+r0,z0, delta)\n",
    "\n",
    "# Define two semicircular arcs that will be joined into a circle.\n",
    "c0 = gmsh.model.geo.addCircleArc(p1, p0, p2)\n",
    "c1 = gmsh.model.geo.addCircleArc(p2, p0, p1)\n",
    "loop = gmsh.model.geo.addCurveLoop([c0,c1])\n",
    "\n",
    "## Alternate geometry: semicircle\n",
    "# l0 = gmsh.model.geo.addLine(p2, p1)\n",
    "# loop = gmsh.model.geo.addCurveLoop([c0, l0])\n",
    "\n",
    "disk = gmsh.model.geo.addPlaneSurface([loop])\n",
    "\n",
    "# Update the model with all of the features we add.\n",
    "gmsh.model.geo.synchronize()\n",
    "\n",
    "# Some geometric objects were only used to define others.\n",
    "# Identify the physical objects.\n",
    "gmsh.model.addPhysicalGroup(1, [c0,c1], 1)\n",
    "gmsh.model.addPhysicalGroup(2, [disk], 1)"
   ]
  },
  {
   "cell_type": "code",
   "execution_count": null,
   "id": "YhWhDfXslq-Y",
   "metadata": {
    "id": "YhWhDfXslq-Y"
   },
   "outputs": [],
   "source": [
    "# Create a mesh for this system.\n",
    "gmsh.model.mesh.generate(dim)\n",
    "\n",
    "# Bring the mesh into FEniCSx.\n",
    "mesh, subdomains, boundaries = dolfinx.io.gmshio.model_to_mesh(\n",
    "    gmsh.model, comm=mpi4py.MPI.COMM_WORLD, rank=0, gdim=2)\n",
    "\n",
    "# Close the mesh generating program.\n",
    "gmsh.finalize()"
   ]
  },
  {
   "cell_type": "markdown",
   "id": "HJNWHXfYOGxZ",
   "metadata": {
    "id": "HJNWHXfYOGxZ"
   },
   "source": [
    "We should have a mesh now: a collection of nodes and elements.  Let's see what we've created."
   ]
  },
  {
   "cell_type": "code",
   "execution_count": null,
   "id": "LYn0De2U09dt",
   "metadata": {
    "id": "LYn0De2U09dt"
   },
   "outputs": [],
   "source": [
    "# Plot the entire mesh.\n",
    "multiphenicsx.io.plot_mesh(mesh)"
   ]
  },
  {
   "cell_type": "code",
   "execution_count": null,
   "id": "3xX0j1Oq1Gcu",
   "metadata": {
    "id": "3xX0j1Oq1Gcu"
   },
   "outputs": [],
   "source": [
    "# Plot the subdomains that FEniCSx has identified.\n",
    "# There should only be one for this model.\n",
    "multiphenicsx.io.plot_mesh_tags(subdomains)"
   ]
  },
  {
   "cell_type": "code",
   "execution_count": null,
   "id": "4DhHyWLX1Z3W",
   "metadata": {
    "id": "4DhHyWLX1Z3W"
   },
   "outputs": [],
   "source": [
    "# Inspect the boundaries of the elements and the system.\n",
    "multiphenicsx.io.plot_mesh_tags(boundaries)"
   ]
  },
  {
   "cell_type": "markdown",
   "id": "F-lCm4uaSUyE",
   "metadata": {
    "id": "F-lCm4uaSUyE"
   },
   "source": [
    "Gmsh has just created this model for us.  Describe what you see.\n",
    "\n",
    "- Did we make the correct shape?\n",
    "- What kind of \"mesh\" did Gmsh create?\n",
    "- Does the mesh seem reasonable?"
   ]
  },
  {
   "cell_type": "markdown",
   "id": "tAVCGOOhS0wd",
   "metadata": {
    "id": "tAVCGOOhS0wd"
   },
   "source": [
    "***Replace with your response.***"
   ]
  },
  {
   "cell_type": "markdown",
   "id": "7BtAk2obCneH",
   "metadata": {
    "id": "7BtAk2obCneH"
   },
   "source": [
    "## Finite Element Method\n",
    "\n",
    "We now have a physical system and a grid to work with.  The next step is to define our problem in such a way that FEniCSx can solve it.\n",
    "\n",
    "The first step is to define a set of functions on our grid."
   ]
  },
  {
   "cell_type": "code",
   "execution_count": null,
   "id": "iDGUR-HOBzdn",
   "metadata": {
    "id": "iDGUR-HOBzdn"
   },
   "outputs": [],
   "source": [
    "# Define a set of functions on our mesh.\n",
    "V = dolfinx.fem.FunctionSpace(mesh, (\"Lagrange\", 2))"
   ]
  },
  {
   "cell_type": "markdown",
   "id": "bg2VyQIPCu-n",
   "metadata": {
    "id": "bg2VyQIPCu-n"
   },
   "source": [
    "### Charge Density\n",
    "\n",
    "Next, we will define the charge density of the wire.  We use a Gaussian distribution (bell curve) here.\n",
    "\n",
    "Define the charge density.  We will use a Gaussian charge distribution.  You can adjust the center and the spread of the distribution."
   ]
  },
  {
   "cell_type": "code",
   "execution_count": null,
   "id": "nwVgQmFWCrNe",
   "metadata": {
    "id": "nwVgQmFWCrNe"
   },
   "outputs": [],
   "source": [
    "# Set the values: center and spread charge of charge distribution.\n",
    "xC = 0.3\n",
    "yC = 0.2\n",
    "ds = 0.1\n",
    "Q = 1\n",
    "\n",
    "# Turn them into symbolic expressions for the FEM solver.\n",
    "x = ufl.SpatialCoordinate(mesh)\n",
    "beta = dolfinx.fem.Constant(mesh, petsc4py.PETSc.ScalarType(1/ds))\n",
    "X0 = dolfinx.fem.Constant(mesh, petsc4py.PETSc.ScalarType(xC))\n",
    "X1 = dolfinx.fem.Constant(mesh, petsc4py.PETSc.ScalarType(yC))\n",
    "\n",
    "# Generate the charge density values for our mesh.\n",
    "rho = Q * ufl.exp(-0.5 * beta**2 * ((x[0]-X0)**2 + (x[1] - X1)**2))"
   ]
  },
  {
   "cell_type": "markdown",
   "id": "PH-l6DjeIfub",
   "metadata": {
    "id": "PH-l6DjeIfub"
   },
   "source": [
    "We can plot the charge density.  First, we have to interpolate the symbolic expression onto our grid."
   ]
  },
  {
   "cell_type": "code",
   "execution_count": null,
   "id": "Df229FNBEbNA",
   "metadata": {
    "id": "Df229FNBEbNA"
   },
   "outputs": [],
   "source": [
    "# Interpolate the charge density for plotting.\n",
    "expr = dolfinx.fem.Expression(rho, V.element.interpolation_points())\n",
    "charge_density = dolfinx.fem.Function(V)\n",
    "charge_density.interpolate(expr)\n",
    "\n",
    "# Now, plot it.\n",
    "multiphenicsx.io.plot_scalar_field(charge_density, name=\"Charge Density\", warp_factor=0)"
   ]
  },
  {
   "cell_type": "markdown",
   "id": "a1DQaStoR2Y8",
   "metadata": {
    "id": "a1DQaStoR2Y8"
   },
   "source": [
    "This plot shows a 2D heatmap of the charge.  You can turn it into a 3D surface plot by changing the `warp_factor` above.  Change the `warp_factor` to 10 and replot.  What do you see?"
   ]
  },
  {
   "cell_type": "markdown",
   "id": "5KtWRkd_SFc2",
   "metadata": {
    "id": "5KtWRkd_SFc2"
   },
   "source": [
    "***Replace with your response.***"
   ]
  },
  {
   "cell_type": "markdown",
   "id": "Safsf0vTROyj",
   "metadata": {
    "id": "Safsf0vTROyj"
   },
   "source": [
    "### Prediction\n",
    "\n",
    "Pause for a moment to make a prediction.  What do you think the potential is going to look like for this system?"
   ]
  },
  {
   "cell_type": "markdown",
   "id": "JwSayuqmRd9E",
   "metadata": {
    "id": "JwSayuqmRd9E"
   },
   "source": [
    "**Replace with your prediction.**"
   ]
  },
  {
   "cell_type": "markdown",
   "id": "Srx9BAtpEqIJ",
   "metadata": {
    "id": "Srx9BAtpEqIJ"
   },
   "source": [
    "### Boundary Condtions\n",
    "\n",
    "Next, we need to tell the solver about boundary conditions.  This cell identifies the elements on the boundary and sets the value of the potential equal to zero there.\n",
    "\n",
    "When we set our function equal to a specific value on a boundary, that is called a \"Dirichlet boundary condition.\""
   ]
  },
  {
   "cell_type": "code",
   "execution_count": null,
   "id": "bklwyz1QEk_E",
   "metadata": {
    "id": "bklwyz1QEk_E"
   },
   "outputs": [],
   "source": [
    "# Identify the domain (all the points inside the boundary).\n",
    "Omega = subdomains.indices[subdomains.values == 1]\n",
    "\n",
    "# Identify the boundary.\n",
    "dOmega = boundaries.indices[boundaries.values == 1]\n",
    "\n",
    "# Use these objects to tell FEniCSx where the boundary is.\n",
    "boundary_elements = dolfinx.fem.locate_dofs_topological(V, boundaries.dim, dOmega)\n",
    "\n",
    "# Now introduce the boundary condition: constant potential on the boundary.\n",
    "phi0 = 0\n",
    "Phi0 = dolfinx.fem.Constant(mesh, petsc4py.PETSc.ScalarType(phi0))\n",
    "bc = dolfinx.fem.dirichletbc(Phi0, boundary_elements, V)"
   ]
  },
  {
   "cell_type": "markdown",
   "id": "vI6sG9xoFnzy",
   "metadata": {
    "id": "vI6sG9xoFnzy"
   },
   "source": [
    "### Explain the Poisson Equation to FEniCSx\n",
    "\n",
    "The Poisson Equation is $\\nabla^2 \\phi = -4 \\pi \\rho$.  When we solve this equation using the finite element method, it looks rather different:\n",
    "$$ \\int dV \\, \\nabla v \\, \\cdot \\nabla u = \\int dV \\, 4 \\pi \\rho \\, v$$\n",
    "\n",
    "$u$ is our \"trial function\" — our best approximation to $\\phi$.  $v$ is a \"test\" function.  In some sense, we \"test\" whether the current approximation $u$ is good by evaluating the integrals.  (Behind the scenes, FEniCSx transforms this into a linear algebra problem.)\n",
    "\n",
    "Here, we explain all of this to FEniCSx."
   ]
  },
  {
   "cell_type": "code",
   "execution_count": null,
   "id": "i0UM5NlfFlRi",
   "metadata": {
    "id": "i0UM5NlfFlRi"
   },
   "outputs": [],
   "source": [
    "# Define the trial and test functions.\n",
    "u = ufl.TrialFunction(V)\n",
    "v = ufl.TestFunction(V)\n",
    "\n",
    "# Create a function to store the solution.\n",
    "phi = dolfinx.fem.Function(V)\n",
    "\n",
    "# This is the FEM version of the Laplacian.\n",
    "# It is the left-hand side of Poisson's equation.\n",
    "a = ufl.inner(ufl.grad(u), ufl.grad(v)) * ufl.dx\n",
    "\n",
    "# This is how we introduce the charge density.\n",
    "# It is the right-hand side of Poisson's equation.\n",
    "L = 4 * ufl.pi * rho * v * ufl.dx\n",
    "\n",
    "# Put it all together for FEniCSx.\n",
    "problem = dolfinx.fem.petsc.LinearProblem(a, L, bcs=[bc], u=phi, petsc_options={\"ksp_type\": \"preonly\", \"pc_type\": \"lu\"})\n",
    "\n",
    "# Now, solve it!\n",
    "problem.solve()\n",
    "\n",
    "# Tie up some loose ends.\n",
    "phi.vector.ghostUpdate(addv=petsc4py.PETSc.InsertMode.INSERT, mode=petsc4py.PETSc.ScatterMode.FORWARD)"
   ]
  },
  {
   "cell_type": "markdown",
   "id": "9hoUmnaXQqwq",
   "metadata": {
    "id": "9hoUmnaXQqwq"
   },
   "source": [
    "## The Solution\n",
    "\n",
    "You just solved Poisson's equation using FEniCSx!"
   ]
  },
  {
   "cell_type": "code",
   "execution_count": null,
   "id": "OulGpJp3xoFD",
   "metadata": {
    "id": "OulGpJp3xoFD"
   },
   "outputs": [],
   "source": [
    "# Plot the solution.\n",
    "multiphenicsx.io.plot_scalar_field(phi, \"Potential\", 10)"
   ]
  },
  {
   "cell_type": "markdown",
   "id": "CDCoh9jBUvcI",
   "metadata": {
    "id": "CDCoh9jBUvcI"
   },
   "source": [
    "### Test Your Hypothesis\n",
    "\n",
    "Inspect the figure above.  Change the warp factor if you would like.\n",
    "\n",
    "- Was your prediction for the potential correct?  If not, how is the solution generated by FEniCSx different?\n",
    "- In what ways is the potential similar to the charge distribution?\n",
    "- In what ways is it different?"
   ]
  },
  {
   "cell_type": "markdown",
   "id": "BtU2BMm4VVaH",
   "metadata": {
    "id": "BtU2BMm4VVaH"
   },
   "source": [
    "***Replace with your response.***"
   ]
  },
  {
   "cell_type": "markdown",
   "id": "7VG1M3gZNF4B",
   "metadata": {
    "id": "7VG1M3gZNF4B"
   },
   "source": [
    "We can compare the charge distribution and the potential on the same axes by taking a 1D slice through each along the same line.  This is a little complicated, because we have to determine the value of our grid functions at every point along a line."
   ]
  },
  {
   "cell_type": "code",
   "execution_count": null,
   "id": "YU0FBnAPI47w",
   "metadata": {
    "id": "YU0FBnAPI47w"
   },
   "outputs": [],
   "source": [
    "# Define the set of points that we wish to plot along.\n",
    "# Avoid hitting the outside of the domain.\n",
    "buffer = 0.1\n",
    "num_points = 201\n",
    "\n",
    "r = np.linspace(-r0 + buffer, r0 - buffer, num_points)\n",
    "theta = np.arctan(yC/xC)\n",
    "\n",
    "x = r * np.cos(theta)\n",
    "y = r * np.sin(theta)\n",
    "\n",
    "points = np.zeros((3, num_points))\n",
    "points[0] = x\n",
    "points[1] = y\n",
    "v_values = []\n",
    "rho_values = []"
   ]
  },
  {
   "cell_type": "code",
   "execution_count": null,
   "id": "R_sV1aI4OkMo",
   "metadata": {
    "id": "R_sV1aI4OkMo"
   },
   "outputs": [],
   "source": [
    "# Interpolate the function values from our mesh onto the line.\n",
    "# We need a special set of tools.\n",
    "from dolfinx import geometry\n",
    "\n",
    "# This is an object that makes searching the mesh faster.\n",
    "bb_tree = geometry.BoundingBoxTree(mesh, mesh.topology.dim)\n",
    "\n",
    "# Move through the cells and find the points we need.\n",
    "cells = []\n",
    "points_on_proc = []\n",
    "\n",
    "# Find cells whose bounding-box collide with the the points of our line.\n",
    "cell_candidates = geometry.compute_collisions(bb_tree, points.T)\n",
    "\n",
    "# Choose one of the cells that contains the point.\n",
    "colliding_cells = geometry.compute_colliding_cells(mesh, cell_candidates, points.T)\n",
    "for i, point in enumerate(points.T):\n",
    "    if len(colliding_cells.links(i))>0:\n",
    "        points_on_proc.append(point)\n",
    "        cells.append(colliding_cells.links(i)[0])\n",
    "\n",
    "# Evaluate the functions on the cells we found.\n",
    "points_on_proc = np.array(points_on_proc, dtype=np.float64)\n",
    "v_values = phi.eval(points_on_proc, cells)\n",
    "rho_values = charge_density.eval(points_on_proc, cells)\n",
    "\n",
    "# Scale the two arrays so they fit on the same axes.\n",
    "scale_factor = rho_values.max() / v_values.max()"
   ]
  },
  {
   "cell_type": "code",
   "execution_count": null,
   "id": "63wU3FxMPHx2",
   "metadata": {
    "id": "63wU3FxMPHx2"
   },
   "outputs": [],
   "source": [
    "# Make the plot.\n",
    "import matplotlib.pyplot as plt\n",
    "fig = plt.figure(dpi=200)\n",
    "plt.plot(r, scale_factor*v_values, \"k\", linewidth=2, label=\"Potential ($\\\\times %.0f$)\" % scale_factor)\n",
    "plt.plot(r, rho_values, \"b--\", linewidth = 2, label=\"Charge Density\")\n",
    "plt.grid(True)\n",
    "plt.xlabel(\"r\")\n",
    "plt.legend()"
   ]
  },
  {
   "cell_type": "markdown",
   "id": "2a_XpbJRWbQp",
   "metadata": {
    "id": "2a_XpbJRWbQp"
   },
   "source": [
    "### Electric Field\n",
    "\n",
    "\n",
    "The electric field is the (negative) gradient of the potential, so we can compute and visualize this, too!\n",
    "\n",
    "Make another prediction first, though.\n",
    "\n",
    "What do you expect the electric field to look like?"
   ]
  },
  {
   "cell_type": "markdown",
   "id": "f_vUbuleWr0x",
   "metadata": {
    "id": "f_vUbuleWr0x"
   },
   "source": [
    "***Replace with your prediction.***"
   ]
  },
  {
   "cell_type": "code",
   "execution_count": null,
   "id": "NvvIw5Is85Bz",
   "metadata": {
    "id": "NvvIw5Is85Bz"
   },
   "outputs": [],
   "source": [
    "# Define a set of elements for a vector field.\n",
    "W = dolfinx.fem.VectorFunctionSpace(mesh, (\"Lagrange\", 2))\n",
    "E = dolfinx.fem.Function(W)\n",
    "\n",
    "# Compute the gradient as a symbolic expression, then interpolate it onto the mesh.\n",
    "expr = dolfinx.fem.Expression(ufl.as_vector((-phi.dx(0), -phi.dx(1))), W.element.interpolation_points())\n",
    "E.interpolate(expr)"
   ]
  },
  {
   "cell_type": "markdown",
   "id": "VrCZc-ZzXFQI",
   "metadata": {
    "id": "VrCZc-ZzXFQI"
   },
   "source": [
    "The `glyph_factor` controls the appearance of the arrows, similar to the `warp_factor` for a scalar field.  Adjust it to make the plot easier to interpret."
   ]
  },
  {
   "cell_type": "code",
   "execution_count": null,
   "id": "ZXvRgHo87tnb",
   "metadata": {
    "id": "ZXvRgHo87tnb"
   },
   "outputs": [],
   "source": [
    "# Use multiphenics to plot the vector field.\n",
    "multiphenicsx.io.plot_vector_field(E,name=\"Electric Field\", glyph_factor=0.5)"
   ]
  },
  {
   "cell_type": "markdown",
   "id": "Yfm-3X12XSRi",
   "metadata": {
    "id": "Yfm-3X12XSRi"
   },
   "source": [
    "Describe what you see.\n",
    " \n",
    "- What does the electric field look like?\n",
    "- Did you predict the main features of the field?  If not, what surprised you?"
   ]
  },
  {
   "cell_type": "markdown",
   "id": "wwAqOvquXmcZ",
   "metadata": {
    "id": "wwAqOvquXmcZ"
   },
   "source": [
    "***Replace with your response.***"
   ]
  },
  {
   "cell_type": "markdown",
   "id": "sniOWVkaXqVq",
   "metadata": {
    "id": "sniOWVkaXqVq"
   },
   "source": [
    "## Reflection\n",
    "\n",
    "Summarize what you've learned in working through this notebook."
   ]
  },
  {
   "cell_type": "markdown",
   "id": "w8iNyEwIXv_z",
   "metadata": {
    "id": "w8iNyEwIXv_z"
   },
   "source": [
    "***Replace with your response.***"
   ]
  },
  {
   "cell_type": "markdown",
   "id": "lIOwC9nbX1R6",
   "metadata": {
    "id": "lIOwC9nbX1R6"
   },
   "source": [
    "## Challenge\n",
    "\n",
    "Make a copy of this notebook in your GitHub repository.  Then, modify the code and explore the results.\n",
    "\n",
    "Some things to try ...\n",
    "- Move the charge around inside the disk.  How does its location affect the potential and electric field?\n",
    "- Change the size of the disk.  How do you think the potential and fields will change?\n",
    "- Change the spread of the charge distribution.  How does this affect the potential and electric field?\n",
    "- Change the fixed potential on the boundary.  How does this affect the potential and electric field?\n",
    "- Put two charges inside the system — one positive and one negative.  How does that affect the resulting potential and field?\n",
    "\n",
    "Try any of these, or your own ideas."
   ]
  },
  {
   "cell_type": "markdown",
   "id": "f06ed897",
   "metadata": {},
   "source": [
    "## Reflection and Summary\n",
    "\n",
    "Congratulations! You just completed a crash course in finite element analysis!\n",
    "\n",
    "- What are the major takeaways of this assignment for you?\n",
    "- What was the most difficult part of this assignment?\n",
    "- What was the most interesting part of this assignment?\n",
    "- What questions do you have?"
   ]
  },
  {
   "cell_type": "markdown",
   "id": "3dbaf06f",
   "metadata": {},
   "source": [
    "***Replace with your response.***"
   ]
  }
 ],
 "metadata": {
  "colab": {
   "include_colab_link": true,
   "provenance": []
  },
  "kernelspec": {
   "display_name": "Python 3 (ipykernel)",
   "language": "python",
   "name": "python3"
  },
  "language_info": {
   "codemirror_mode": {
    "name": "ipython",
    "version": 3
   },
   "file_extension": ".py",
   "mimetype": "text/x-python",
   "name": "python",
   "nbconvert_exporter": "python",
   "pygments_lexer": "ipython3",
   "version": "3.9.12"
  }
 },
 "nbformat": 4,
 "nbformat_minor": 5
}
