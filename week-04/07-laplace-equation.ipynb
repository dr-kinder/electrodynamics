{
 "cells": [
  {
   "cell_type": "markdown",
   "id": "a84b4e14",
   "metadata": {
    "colab_type": "text",
    "id": "view-in-github"
   },
   "source": [
    "<a href=\"https://colab.research.google.com/github/dr-kinder/playground/blob/dev/07-laplace-equation.ipynb\" target=\"_parent\"><img src=\"https://colab.research.google.com/assets/colab-badge.svg\" alt=\"Open In Colab\"/></a>"
   ]
  },
  {
   "cell_type": "markdown",
   "id": "TfAjak0-qO4X",
   "metadata": {
    "id": "TfAjak0-qO4X"
   },
   "source": [
    "# Solving Laplace's Equation\n",
    "In this tutorial, we are going to use the finite element method to solve Laplace's equation.\n",
    "\n",
    "## The System\n",
    "\n",
    "The physical system under study is a conducting rectangular pipe whose four sides can be held at different potentials or left to vary freely.\n",
    "\n",
    "## Acknowledgements\n",
    "\n",
    "The installation commands below come from the [FEM on CoLab](https://fem-on-colab.github.io/index.html) project.\n",
    "\n",
    "Thanks to all of the contributors to these projects!"
   ]
  },
  {
   "cell_type": "markdown",
   "id": "cP7zGK1PVPvZ",
   "metadata": {
    "id": "cP7zGK1PVPvZ"
   },
   "source": [
    "# Install and Load Packages\n",
    "\n",
    "These are the commands we use to install FEniCSx, Gmsh, and **multiphenicsx**."
   ]
  },
  {
   "cell_type": "code",
   "execution_count": null,
   "id": "7EUMPSN5-gkh",
   "metadata": {
    "id": "7EUMPSN5-gkh"
   },
   "outputs": [],
   "source": [
    "try:\n",
    "    # Import gmsh library for generating meshes.\n",
    "    import gmsh\n",
    "except ImportError:\n",
    "    # If it is not available, install it.  Then import it.\n",
    "    !wget \"https://fem-on-colab.github.io/releases/gmsh-install.sh\" -O \"/tmp/gmsh-install.sh\" && bash \"/tmp/gmsh-install.sh\"\n",
    "    import gmsh"
   ]
  },
  {
   "cell_type": "code",
   "execution_count": null,
   "id": "mediterranean-century",
   "metadata": {
    "id": "mediterranean-century"
   },
   "outputs": [],
   "source": [
    "try:\n",
    "    # Import FEniCSx libraries for finite element analysis.\n",
    "    import dolfinx\n",
    "except ImportError:\n",
    "    # If they are not found, install them.  Then import them.\n",
    "    !wget \"https://fem-on-colab.github.io/releases/fenicsx-install-real.sh\" -O \"/tmp/fenicsx-install.sh\" && bash \"/tmp/fenicsx-install.sh\"\n",
    "    import dolfinx"
   ]
  },
  {
   "cell_type": "code",
   "execution_count": null,
   "id": "WbKnhYd_hJHf",
   "metadata": {
    "id": "WbKnhYd_hJHf"
   },
   "outputs": [],
   "source": [
    "try:\n",
    "    # Import multiphenicsx, mainly for plotting.\n",
    "    import multiphenicsx\n",
    "except ImportError:\n",
    "    # If they are not found, install them.\n",
    "    !pip3 install \"multiphenicsx@git+https://github.com/multiphenics/multiphenicsx.git@8b97b4e\"\n",
    "    import multiphenicsx"
   ]
  },
  {
   "cell_type": "markdown",
   "id": "oj1SSuMXJytW",
   "metadata": {
    "id": "oj1SSuMXJytW"
   },
   "source": [
    "Everything we need should be installed now!\n",
    "\n",
    "If you \"Restart runtime\" from the \"Runtime\" menu, all of your data will be reset, but the packages will remain installed.\n",
    "\n",
    "Let's load the packages we need, and get started!"
   ]
  },
  {
   "cell_type": "code",
   "execution_count": null,
   "id": "QbcHvDwImO1j",
   "metadata": {
    "id": "QbcHvDwImO1j"
   },
   "outputs": [],
   "source": [
    "# Everything should be installed now.\n",
    "# Import the rest of what we need.\n",
    "\n",
    "import dolfinx.fem\n",
    "import dolfinx.io\n",
    "import gmsh\n",
    "import mpi4py.MPI\n",
    "import numpy as np\n",
    "import petsc4py.PETSc\n",
    "import ufl\n",
    "import multiphenicsx.fem\n",
    "import multiphenicsx.io"
   ]
  },
  {
   "cell_type": "markdown",
   "id": "D_67HUAWVueC",
   "metadata": {
    "id": "D_67HUAWVueC"
   },
   "source": [
    "# Concstruct the Model\n",
    "\n",
    "The physical system under study is a conducting rectangular pipe whose four sides can be held at different potentials or left to vary freely.\n",
    "\n",
    "The geometric model is a rectangle, representing the cross section of the pipe."
   ]
  },
  {
   "cell_type": "code",
   "execution_count": null,
   "id": "gApSsNTHXLNQ",
   "metadata": {
    "id": "gApSsNTHXLNQ"
   },
   "outputs": [],
   "source": [
    "## Adjust the parameters in this cell.\n",
    "# Define the shape: length and width of the rectangle\n",
    "length = 2\n",
    "width = 4"
   ]
  },
  {
   "cell_type": "code",
   "execution_count": null,
   "id": "bbbIAVQ4odgj",
   "metadata": {
    "id": "bbbIAVQ4odgj"
   },
   "outputs": [],
   "source": [
    "# Create a rectangle.\n",
    "# Locate the center.\n",
    "x0 = 0\n",
    "y0 = 0\n",
    "z0 = 0\n",
    "\n",
    "# Give input shorter nicknames.\n",
    "L = length\n",
    "W = width\n",
    "\n",
    "# Locate the corner.\n",
    "x0 = x0 - L/2\n",
    "y0 = y0 - W/2\n",
    "\n",
    "# Tell Gmsh how many dimensions we are using.\n",
    "dim = 2\n",
    "\n",
    "# Grid size parameter.  Make it smaller for higher resolution.\n",
    "delta = 0.1\n",
    "\n",
    "# Create a new model.\n",
    "gmsh.initialize()\n",
    "gmsh.model.add(\"mesh\")\n",
    "\n",
    "# Define points: corners of the rectangle.\n",
    "p0 = gmsh.model.geo.addPoint(x0,y0, z0, delta)\n",
    "p1 = gmsh.model.geo.addPoint(x0+L, y0, z0, delta)\n",
    "p2 = gmsh.model.geo.addPoint(x0+L, y0+W,z0, delta)\n",
    "p3 = gmsh.model.geo.addPoint(x0, y0+W, z0, delta)\n",
    "\n",
    "# Define the perimeter of the rectangle as a loop.\n",
    "l0 = gmsh.model.geo.addLine(p0, p1)\n",
    "l1 = gmsh.model.geo.addLine(p1, p2)\n",
    "l2 = gmsh.model.geo.addLine(p2, p3)\n",
    "l3 = gmsh.model.geo.addLine(p3, p0)\n",
    "loop = gmsh.model.geo.addCurveLoop([l0,l1,l2,l3])\n",
    "\n",
    "# Define the interior of the rectangle as a surface.\n",
    "rectangle = gmsh.model.geo.addPlaneSurface([loop])\n",
    "\n",
    "# Update the model with all of the features we add.\n",
    "gmsh.model.geo.synchronize()\n",
    "\n",
    "# Some geometric objects were only used to define others.\n",
    "# Identify the physical objects.\n",
    "\n",
    "# Add each edge separately, so it is a unique object.\n",
    "# This will allow us to set the boundary conditions separately.\n",
    "gmsh.model.addPhysicalGroup(1, [l0], 1)\n",
    "gmsh.model.addPhysicalGroup(1, [l1], 2)\n",
    "gmsh.model.addPhysicalGroup(1, [l2], 3)\n",
    "gmsh.model.addPhysicalGroup(1, [l3], 4)\n",
    "\n",
    "# Define the interior of the rectangle as our domain.\n",
    "gmsh.model.addPhysicalGroup(2, [rectangle], 1)\n",
    "\n",
    "# Create a mesh for this system.\n",
    "gmsh.model.mesh.generate(dim)\n",
    "\n",
    "# Bring the mesh into FEniCSx.\n",
    "mesh, subdomains, boundaries = dolfinx.io.gmshio.model_to_mesh(\n",
    "    gmsh.model, comm=mpi4py.MPI.COMM_WORLD, rank=0, gdim=2)\n",
    "\n",
    "# Close the mesh generating program.\n",
    "gmsh.finalize()"
   ]
  },
  {
   "cell_type": "code",
   "execution_count": null,
   "id": "Tux5Ak_5tEld",
   "metadata": {
    "id": "Tux5Ak_5tEld"
   },
   "outputs": [],
   "source": [
    "# Get separate identifiers for the four walls.\n",
    "wall_1 = boundaries.indices[boundaries.values == 1]\n",
    "wall_2 = boundaries.indices[boundaries.values == 2]\n",
    "wall_3 = boundaries.indices[boundaries.values == 3]\n",
    "wall_4 = boundaries.indices[boundaries.values == 4]"
   ]
  },
  {
   "cell_type": "code",
   "execution_count": null,
   "id": "F2gto5GKrhJM",
   "metadata": {
    "colab": {
     "base_uri": "https://localhost:8080/",
     "referenced_widgets": [
      "b0d850019fd1491eaaad75b8e5249fa9",
      "64d79382809748b98eee0a5597e4cdfd"
     ]
    },
    "id": "F2gto5GKrhJM",
    "outputId": "2ac6cf21-7218-4514-fc46-68ae6ed55fba"
   },
   "outputs": [
    {
     "data": {
      "application/vnd.jupyter.widget-view+json": {
       "model_id": "b0d850019fd1491eaaad75b8e5249fa9",
       "version_major": 2,
       "version_minor": 0
      },
      "text/plain": [
       "Viewer(geometries=[{'vtkClass': 'vtkPolyData', 'points': {'vtkClass': 'vtkPoints', 'name': '_points', 'numberO…"
      ]
     },
     "metadata": {
      "application/vnd.jupyter.widget-view+json": {
       "colab": {
        "custom_widget_manager": {
         "url": "https://ssl.gstatic.com/colaboratory-static/widgets/colab-cdn-widget-manager/d2e234f7cc04bf79/manager.min.js"
        }
       }
      }
     },
     "output_type": "display_data"
    },
    {
     "data": {
      "application/vnd.jupyter.widget-view+json": {
       "model_id": "b0d850019fd1491eaaad75b8e5249fa9",
       "version_major": 2,
       "version_minor": 0
      },
      "text/plain": [
       "Viewer(geometries=[{'vtkClass': 'vtkPolyData', 'points': {'vtkClass': 'vtkPoints', 'name': '_points', 'numberO…"
      ]
     },
     "metadata": {
      "application/vnd.jupyter.widget-view+json": {
       "colab": {
        "custom_widget_manager": {
         "url": "https://ssl.gstatic.com/colaboratory-static/widgets/colab-cdn-widget-manager/d2e234f7cc04bf79/manager.min.js"
        }
       }
      }
     },
     "output_type": "display_data"
    }
   ],
   "source": [
    "# Plot the entire mesh.\n",
    "multiphenicsx.io.plot_mesh(mesh)"
   ]
  },
  {
   "cell_type": "code",
   "execution_count": null,
   "id": "Xx0VzMfBrhJM",
   "metadata": {
    "colab": {
     "base_uri": "https://localhost:8080/",
     "referenced_widgets": [
      "164c293ac3df4bdab382ea55e49a1ef5",
      "575bdbbdb4094decb0fd4b00be067de3"
     ]
    },
    "id": "Xx0VzMfBrhJM",
    "outputId": "826fcf65-7ab8-49cc-bd67-16a62bfd3e3a"
   },
   "outputs": [
    {
     "data": {
      "application/vnd.jupyter.widget-view+json": {
       "model_id": "164c293ac3df4bdab382ea55e49a1ef5",
       "version_major": 2,
       "version_minor": 0
      },
      "text/plain": [
       "Viewer(geometries=[{'vtkClass': 'vtkPolyData', 'points': {'vtkClass': 'vtkPoints', 'name': '_points', 'numberO…"
      ]
     },
     "metadata": {
      "application/vnd.jupyter.widget-view+json": {
       "colab": {
        "custom_widget_manager": {
         "url": "https://ssl.gstatic.com/colaboratory-static/widgets/colab-cdn-widget-manager/d2e234f7cc04bf79/manager.min.js"
        }
       }
      }
     },
     "output_type": "display_data"
    },
    {
     "data": {
      "application/vnd.jupyter.widget-view+json": {
       "model_id": "164c293ac3df4bdab382ea55e49a1ef5",
       "version_major": 2,
       "version_minor": 0
      },
      "text/plain": [
       "Viewer(geometries=[{'vtkClass': 'vtkPolyData', 'points': {'vtkClass': 'vtkPoints', 'name': '_points', 'numberO…"
      ]
     },
     "metadata": {
      "application/vnd.jupyter.widget-view+json": {
       "colab": {
        "custom_widget_manager": {
         "url": "https://ssl.gstatic.com/colaboratory-static/widgets/colab-cdn-widget-manager/d2e234f7cc04bf79/manager.min.js"
        }
       }
      }
     },
     "output_type": "display_data"
    }
   ],
   "source": [
    "# Plot the subdomains that FEniCSx has identified.\n",
    "# There should only be one for this model.\n",
    "multiphenicsx.io.plot_mesh_tags(subdomains)"
   ]
  },
  {
   "cell_type": "code",
   "execution_count": null,
   "id": "1zS-dBForhJN",
   "metadata": {
    "colab": {
     "base_uri": "https://localhost:8080/",
     "referenced_widgets": [
      "d020c2653bf54a398cf321765f5c1807",
      "8647b2f1119248c6a0741628acdbd600"
     ]
    },
    "id": "1zS-dBForhJN",
    "outputId": "ab7cb6a5-a3a0-48ef-c2c5-59887471d4c9"
   },
   "outputs": [
    {
     "data": {
      "application/vnd.jupyter.widget-view+json": {
       "model_id": "d020c2653bf54a398cf321765f5c1807",
       "version_major": 2,
       "version_minor": 0
      },
      "text/plain": [
       "Viewer(geometries=[{'vtkClass': 'vtkPolyData', 'points': {'vtkClass': 'vtkPoints', 'name': '_points', 'numberO…"
      ]
     },
     "metadata": {
      "application/vnd.jupyter.widget-view+json": {
       "colab": {
        "custom_widget_manager": {
         "url": "https://ssl.gstatic.com/colaboratory-static/widgets/colab-cdn-widget-manager/d2e234f7cc04bf79/manager.min.js"
        }
       }
      }
     },
     "output_type": "display_data"
    },
    {
     "data": {
      "application/vnd.jupyter.widget-view+json": {
       "model_id": "d020c2653bf54a398cf321765f5c1807",
       "version_major": 2,
       "version_minor": 0
      },
      "text/plain": [
       "Viewer(geometries=[{'vtkClass': 'vtkPolyData', 'points': {'vtkClass': 'vtkPoints', 'name': '_points', 'numberO…"
      ]
     },
     "metadata": {
      "application/vnd.jupyter.widget-view+json": {
       "colab": {
        "custom_widget_manager": {
         "url": "https://ssl.gstatic.com/colaboratory-static/widgets/colab-cdn-widget-manager/d2e234f7cc04bf79/manager.min.js"
        }
       }
      }
     },
     "output_type": "display_data"
    }
   ],
   "source": [
    "# Inspect the boundaries of the elements and the system.\n",
    "multiphenicsx.io.plot_mesh_tags(boundaries)\n",
    "\n",
    "# Note that each wall is a different color,\n",
    "# indicating it is a separate \"physical object\"."
   ]
  },
  {
   "cell_type": "code",
   "execution_count": null,
   "id": "TbIeRtUKrdbC",
   "metadata": {
    "colab": {
     "base_uri": "https://localhost:8080/",
     "referenced_widgets": [
      "e0629e8606af4c8ab2e4434731dd8191",
      "456acd5897104fe89c2464225fa47cbe"
     ]
    },
    "id": "TbIeRtUKrdbC",
    "outputId": "b5554bab-f15d-42bc-eb6f-d179f5efb20c"
   },
   "outputs": [
    {
     "data": {
      "application/vnd.jupyter.widget-view+json": {
       "model_id": "e0629e8606af4c8ab2e4434731dd8191",
       "version_major": 2,
       "version_minor": 0
      },
      "text/plain": [
       "Viewer(geometries=[{'vtkClass': 'vtkPolyData', 'points': {'vtkClass': 'vtkPoints', 'name': '_points', 'numberO…"
      ]
     },
     "metadata": {
      "application/vnd.jupyter.widget-view+json": {
       "colab": {
        "custom_widget_manager": {
         "url": "https://ssl.gstatic.com/colaboratory-static/widgets/colab-cdn-widget-manager/d2e234f7cc04bf79/manager.min.js"
        }
       }
      }
     },
     "output_type": "display_data"
    },
    {
     "data": {
      "application/vnd.jupyter.widget-view+json": {
       "model_id": "e0629e8606af4c8ab2e4434731dd8191",
       "version_major": 2,
       "version_minor": 0
      },
      "text/plain": [
       "Viewer(geometries=[{'vtkClass': 'vtkPolyData', 'points': {'vtkClass': 'vtkPoints', 'name': '_points', 'numberO…"
      ]
     },
     "metadata": {
      "application/vnd.jupyter.widget-view+json": {
       "colab": {
        "custom_widget_manager": {
         "url": "https://ssl.gstatic.com/colaboratory-static/widgets/colab-cdn-widget-manager/d2e234f7cc04bf79/manager.min.js"
        }
       }
      }
     },
     "output_type": "display_data"
    }
   ],
   "source": [
    "# Change the last function argument to see the individual walls.\n",
    "multiphenicsx.io.plot_mesh_entities(mesh, mesh.topology.dim - 1, wall_1)"
   ]
  },
  {
   "cell_type": "markdown",
   "id": "tJKeO0eYYmgo",
   "metadata": {
    "id": "tJKeO0eYYmgo"
   },
   "source": [
    "# Finite Element Method\n",
    "\n",
    "Now it is time to tell FEniCSx the problem we want to solve on this mesh.\n",
    "\n",
    "You can vary the using the cells above geometry above.  The cell below allows you to specify the boundary conditions along the 4 edges.\n",
    "\n",
    "In the language of finite elements, there are two common types of boundary condtions.\n",
    "- An ***essential boundary condition*** specifies the value of the function on a boundary.\n",
    "- A ***natural boundary condtions*** specifies the normal derivative.\n",
    "\n",
    "The normal derivative is the derivative perpendicular to the boundary.  It is possible to set the function or its normal derivative equal to any other function on the boundary.  These examples will set the function equal to a constant or its normal derivative equal to zero."
   ]
  },
  {
   "cell_type": "code",
   "execution_count": null,
   "id": "GbAt1AqpaRWy",
   "metadata": {
    "id": "GbAt1AqpaRWy"
   },
   "outputs": [],
   "source": [
    "# Set the potential on each wall.\n",
    "V1 = 2.0\n",
    "V2 = 0.0\n",
    "V3 = 0.0\n",
    "V4 = 0.0\n",
    "\n",
    "# Define the type of boundary on each wall.\n",
    "# Set to \"True\" or \"1\" for essential (fixed potential).\n",
    "# Set to \"False\" or \"0\" for natural (zero normal derivative).\n",
    "essential_1 = True\n",
    "essential_2 = True\n",
    "essential_3 = True\n",
    "essential_4 = True"
   ]
  },
  {
   "cell_type": "code",
   "execution_count": null,
   "id": "NK2U7uz5vElB",
   "metadata": {
    "id": "NK2U7uz5vElB"
   },
   "outputs": [],
   "source": [
    "## Set up the finite element problem.\n",
    "\n",
    "# Define trial and test functions.\n",
    "V = dolfinx.fem.FunctionSpace(mesh, (\"Lagrange\", 2))\n",
    "\n",
    "# Define the trial and test functions.\n",
    "u = ufl.TrialFunction(V)\n",
    "v = ufl.TestFunction(V)\n",
    "\n",
    "# Create a function to store the solution.\n",
    "phi = dolfinx.fem.Function(V)\n",
    "\n",
    "# Identify the domain (all the points inside the boundary).\n",
    "Omega = subdomains.indices[subdomains.values == 1]\n",
    "\n",
    "# Identify the boundary for FEniCSx.\n",
    "dOmega_1 = dolfinx.fem.locate_dofs_topological(V, boundaries.dim, wall_1)\n",
    "dOmega_2 = dolfinx.fem.locate_dofs_topological(V, boundaries.dim, wall_2)\n",
    "dOmega_3 = dolfinx.fem.locate_dofs_topological(V, boundaries.dim, wall_3)\n",
    "dOmega_4 = dolfinx.fem.locate_dofs_topological(V, boundaries.dim, wall_4)\n",
    "\n",
    "# Now introduce the boundary conditions.\n",
    "# Store the essential boundary conditions in a list.\n",
    "essential_bc = []\n",
    "if essential_1:\n",
    "    Phi0 = dolfinx.fem.Constant(mesh, petsc4py.PETSc.ScalarType(V1))\n",
    "    essential_bc += [dolfinx.fem.dirichletbc(Phi0, dOmega_1, V)]\n",
    "if essential_2:\n",
    "    Phi0 = dolfinx.fem.Constant(mesh, petsc4py.PETSc.ScalarType(V2))\n",
    "    essential_bc += [dolfinx.fem.dirichletbc(Phi0, dOmega_2, V)]\n",
    "if essential_3:\n",
    "    Phi0 = dolfinx.fem.Constant(mesh, petsc4py.PETSc.ScalarType(V3))\n",
    "    essential_bc += [dolfinx.fem.dirichletbc(Phi0, dOmega_3, V)]\n",
    "if essential_4:\n",
    "    Phi0 = dolfinx.fem.Constant(mesh, petsc4py.PETSc.ScalarType(V4))\n",
    "    essential_bc += [dolfinx.fem.dirichletbc(Phi0, dOmega_4, V)]\n",
    "\n",
    "# This is the FEM version of the Laplacian.\n",
    "# It is the left-hand side of Poisson's or Laplace's equation.\n",
    "a = ufl.inner(ufl.grad(u), ufl.grad(v)) * ufl.dx\n",
    "\n",
    "# This the right-hand side of Poisson's equation.\n",
    "# We need to create a FEniCSx-friendly version of 0.\n",
    "Zero = dolfinx.fem.Constant(mesh, petsc4py.PETSc.ScalarType(0.0))\n",
    "L = Zero * v * ufl.dx\n",
    "\n",
    "# Put it all together for FEniCSx.\n",
    "problem = dolfinx.fem.petsc.LinearProblem(a, L, essential_bc, u=phi)\n",
    "\n",
    "# Now, solve it!\n",
    "problem.solve()\n",
    "\n",
    "# Tie up some loose ends.\n",
    "phi.vector.ghostUpdate(addv=petsc4py.PETSc.InsertMode.INSERT, mode=petsc4py.PETSc.ScatterMode.FORWARD)"
   ]
  },
  {
   "cell_type": "code",
   "execution_count": null,
   "id": "nsLVYr1fSiKZ",
   "metadata": {
    "colab": {
     "base_uri": "https://localhost:8080/",
     "height": 717,
     "referenced_widgets": [
      "db63cf51c7e8406697b409d20f98241a",
      "5bdca617f1b4491883db93454c0617ea"
     ]
    },
    "id": "nsLVYr1fSiKZ",
    "outputId": "202c5bbc-684f-4d20-9d8d-b2036727b0ff"
   },
   "outputs": [
    {
     "data": {
      "application/vnd.jupyter.widget-view+json": {
       "model_id": "db63cf51c7e8406697b409d20f98241a",
       "version_major": 2,
       "version_minor": 0
      },
      "text/plain": [
       "Viewer(geometries=[{'vtkClass': 'vtkPolyData', 'points': {'vtkClass': 'vtkPoints', 'name': '_points', 'numberO…"
      ]
     },
     "metadata": {
      "application/vnd.jupyter.widget-view+json": {
       "colab": {
        "custom_widget_manager": {
         "url": "https://ssl.gstatic.com/colaboratory-static/widgets/colab-cdn-widget-manager/d2e234f7cc04bf79/manager.min.js"
        }
       }
      }
     },
     "output_type": "display_data"
    },
    {
     "data": {
      "application/vnd.jupyter.widget-view+json": {
       "model_id": "db63cf51c7e8406697b409d20f98241a",
       "version_major": 2,
       "version_minor": 0
      },
      "text/plain": [
       "Viewer(geometries=[{'vtkClass': 'vtkPolyData', 'points': {'vtkClass': 'vtkPoints', 'name': '_points', 'numberO…"
      ]
     },
     "metadata": {
      "application/vnd.jupyter.widget-view+json": {
       "colab": {
        "custom_widget_manager": {
         "url": "https://ssl.gstatic.com/colaboratory-static/widgets/colab-cdn-widget-manager/d2e234f7cc04bf79/manager.min.js"
        }
       }
      }
     },
     "output_type": "display_data"
    }
   ],
   "source": [
    "# Plot the solution.\n",
    "multiphenicsx.io.plot_scalar_field(phi, \"Potential\", warp_factor=1)"
   ]
  },
  {
   "cell_type": "code",
   "execution_count": null,
   "id": "NvvIw5Is85Bz",
   "metadata": {
    "id": "NvvIw5Is85Bz"
   },
   "outputs": [],
   "source": [
    "# Define a set of elements for a vector field.\n",
    "W = dolfinx.fem.VectorFunctionSpace(mesh, (\"Lagrange\", 2))\n",
    "E = dolfinx.fem.Function(W)\n",
    "\n",
    "# Compute the gradient as a symbolic expression, then interpolate it onto the mesh.\n",
    "expr = dolfinx.fem.Expression(ufl.as_vector((-phi.dx(0), -phi.dx(1))), W.element.interpolation_points())\n",
    "E.interpolate(expr)"
   ]
  },
  {
   "cell_type": "code",
   "execution_count": null,
   "id": "ZXvRgHo87tnb",
   "metadata": {
    "colab": {
     "base_uri": "https://localhost:8080/",
     "height": 717,
     "referenced_widgets": [
      "f39d7b5dc63145949ca468ee42ddb060",
      "7c7103fc0d3142ea8e2cd9c4acbcaeff"
     ]
    },
    "id": "ZXvRgHo87tnb",
    "outputId": "6ff0fb19-0700-4388-8bc6-f57bcc82b523"
   },
   "outputs": [
    {
     "data": {
      "application/vnd.jupyter.widget-view+json": {
       "model_id": "f39d7b5dc63145949ca468ee42ddb060",
       "version_major": 2,
       "version_minor": 0
      },
      "text/plain": [
       "Viewer(geometries=[{'vtkClass': 'vtkPolyData', 'points': {'vtkClass': 'vtkPoints', 'name': '_points', 'numberO…"
      ]
     },
     "metadata": {
      "application/vnd.jupyter.widget-view+json": {
       "colab": {
        "custom_widget_manager": {
         "url": "https://ssl.gstatic.com/colaboratory-static/widgets/colab-cdn-widget-manager/d2e234f7cc04bf79/manager.min.js"
        }
       }
      }
     },
     "output_type": "display_data"
    },
    {
     "data": {
      "application/vnd.jupyter.widget-view+json": {
       "model_id": "f39d7b5dc63145949ca468ee42ddb060",
       "version_major": 2,
       "version_minor": 0
      },
      "text/plain": [
       "Viewer(geometries=[{'vtkClass': 'vtkPolyData', 'points': {'vtkClass': 'vtkPoints', 'name': '_points', 'numberO…"
      ]
     },
     "metadata": {
      "application/vnd.jupyter.widget-view+json": {
       "colab": {
        "custom_widget_manager": {
         "url": "https://ssl.gstatic.com/colaboratory-static/widgets/colab-cdn-widget-manager/d2e234f7cc04bf79/manager.min.js"
        }
       }
      }
     },
     "output_type": "display_data"
    }
   ],
   "source": [
    "# Use multiphenics to plot the vector field.\n",
    "multiphenicsx.io.plot_vector_field(E,name=\"Electric Field\", glyph_factor=1e-2)"
   ]
  },
  {
   "cell_type": "markdown",
   "id": "eSBL-flUfBfN",
   "metadata": {
    "id": "eSBL-flUfBfN"
   },
   "source": [
    "# Experiments\n",
    "\n"
   ]
  },
  {
   "cell_type": "markdown",
   "id": "mF_oyM8kfF1Z",
   "metadata": {
    "id": "mF_oyM8kfF1Z"
   },
   "source": [
    "## 1. Three Grounded Walls\n",
    "\n",
    "- Create a square: Set the length and width to be equal.\n",
    "- Set all boundaries to be essential.\n",
    "- Set the potentials as follows:\n",
    "  - $V_1=2.0$\n",
    "  - $V_2=0.0$\n",
    "  - $V_3=0.0$\n",
    "  - $V_4=0.0$\n",
    "\n",
    "Run the model and FEM cells above.  Explore the output.\n",
    "\n",
    "- Describe the geometry.\n",
    "- Describe the potential.\n",
    "- Describe the electric field.\n",
    "\n",
    "Try to explain the features you see in the potential and field."
   ]
  },
  {
   "cell_type": "markdown",
   "id": "7K49Vtd_g_aJ",
   "metadata": {
    "id": "7K49Vtd_g_aJ"
   },
   "source": [
    "***Replace with your response.***"
   ]
  },
  {
   "cell_type": "markdown",
   "id": "XD9FzOzYhlpR",
   "metadata": {
    "id": "XD9FzOzYhlpR"
   },
   "source": [
    "## 2. Two Grounded Walls\n",
    "\n",
    "- Create a square: Set the length and width to be equal.\n",
    "- Set all boundaries to be essential.\n",
    "- Set the potentials as follows:\n",
    "  - $V_1=2.0$\n",
    "  - $V_2=0.0$\n",
    "  - $V_3=2.0$\n",
    "  - $V_4=0.0$\n",
    "\n",
    "This will set the potential on opposite sides of the square equal to 2.0.\n",
    "\n",
    "***Make a prediction before you run the simulation.***  How do you think the potential will change compared to Experiment 1?  What will be the shape of the potential?\n",
    "\n",
    "Run the model and FEM cells above.  Explore the output.\n",
    "\n",
    "- Describe the geometry.\n",
    "- Describe the potential.\n",
    "- Describe the electric field.\n",
    "\n",
    "Try to explain the features you see in the potential and field."
   ]
  },
  {
   "cell_type": "markdown",
   "id": "ckYlRaSQnyeh",
   "metadata": {
    "id": "ckYlRaSQnyeh"
   },
   "source": [
    "***Replace with your response.***"
   ]
  },
  {
   "cell_type": "markdown",
   "id": "PEqlju3Xhmm3",
   "metadata": {
    "id": "PEqlju3Xhmm3"
   },
   "source": [
    "## 3. Natural Boundary Conditions\n",
    "\n",
    "- Create a square: Set the length and width to be equal.\n",
    "- Set boundaries 1, 2, and 4 to be essential.\n",
    "- Set boundary 3 to be natural.\n",
    "- Set the potentials as follows:\n",
    "  - $V_1=2.0$\n",
    "  - $V_2=0.0$\n",
    "  - $V_3=0.0$\n",
    "  - $V_4=0.0$\n",
    "\n",
    "Instead of fixing the value of the potential on the third wall, we are requiring the normal derivative to vanish.\n",
    "\n",
    "***Make a prediction before you run the simulation.***  How do you think the potential will change compared to Experiment 1?  What will be the shape of the potential?\n",
    "\n",
    "Run the model and FEM cells above.  Explore the output.\n",
    "\n",
    "- Describe the geometry.\n",
    "- Describe the potential.\n",
    "- Describe the electric field.\n",
    "\n",
    "Try to explain the features you see in the potential and field."
   ]
  },
  {
   "cell_type": "markdown",
   "id": "PKmvUlUqnzIr",
   "metadata": {
    "id": "PKmvUlUqnzIr"
   },
   "source": [
    "***Replace with your response.***"
   ]
  },
  {
   "cell_type": "markdown",
   "id": "AF6aysbphnD0",
   "metadata": {
    "id": "AF6aysbphnD0"
   },
   "source": [
    "## 4. Change the Shape\n",
    "\n",
    "Repeat Experiments 1, 2, and 3, but change the shape from a square to a rectangle.  Try a variety of shapes: for example, $L = 2W$, $L = 100W$, $W=20L$, etc.\n",
    "\n",
    "In each case, describe what changes, compared to the square."
   ]
  },
  {
   "cell_type": "markdown",
   "id": "8HOS6dc9n0r7",
   "metadata": {
    "id": "8HOS6dc9n0r7"
   },
   "source": [
    "***Replace with your response.***"
   ]
  },
  {
   "cell_type": "markdown",
   "id": "sAQbrqTplTNL",
   "metadata": {
    "id": "sAQbrqTplTNL"
   },
   "source": [
    "## 5. Change the Boundary Conditions\n",
    "\n",
    "Repeat Experiment 1, then explore the effect of changing the boundary conditions.  Change some of the potentials on the four walls.  Change some of the boundary conditions from essential to natural.\n",
    "\n",
    "***Describe your experiments and your findings below.***"
   ]
  },
  {
   "cell_type": "markdown",
   "id": "iYn_ca28n2JU",
   "metadata": {
    "id": "iYn_ca28n2JU"
   },
   "source": [
    "***Replace with your response.***"
   ]
  },
  {
   "cell_type": "markdown",
   "id": "S9343n5wmE-f",
   "metadata": {
    "id": "S9343n5wmE-f"
   },
   "source": [
    "## Challenge: Charge in a Box\n",
    "\n",
    "In the space below, try to merge commands from this notebook and Notebook 6 to add a charge to the box, compute the potential, and plot the potential and field in the system."
   ]
  },
  {
   "cell_type": "markdown",
   "id": "3a5JwL7cn_BA",
   "metadata": {
    "id": "3a5JwL7cn_BA"
   },
   "source": [
    "***Replace with your notes.***"
   ]
  },
  {
   "cell_type": "code",
   "execution_count": null,
   "id": "dstBIHu2gAAR",
   "metadata": {
    "id": "dstBIHu2gAAR"
   },
   "outputs": [],
   "source": [
    "## Replace with your code."
   ]
  },
  {
   "cell_type": "markdown",
   "id": "iDv7icuFLOnS",
   "metadata": {
    "id": "iDv7icuFLOnS"
   },
   "source": [
    "# Reflection and Summary\n",
    "\n",
    "- What are the major takeaways of this assignment for you?\n",
    "- What was the most difficult part of this assignment?\n",
    "- What was the most interesting part of this assignment?\n",
    "- What questions do you have?"
   ]
  },
  {
   "cell_type": "markdown",
   "id": "8BVAlbFlLbRp",
   "metadata": {
    "id": "8BVAlbFlLbRp"
   },
   "source": [
    "***Replace with your response.***"
   ]
  }
 ],
 "metadata": {
  "colab": {
   "include_colab_link": true,
   "provenance": []
  },
  "kernelspec": {
   "display_name": "Python 3 (ipykernel)",
   "language": "python",
   "name": "python3"
  },
  "language_info": {
   "codemirror_mode": {
    "name": "ipython",
    "version": 3
   },
   "file_extension": ".py",
   "mimetype": "text/x-python",
   "name": "python",
   "nbconvert_exporter": "python",
   "pygments_lexer": "ipython3",
   "version": "3.9.12"
  },
  "widgets": {
   "application/vnd.jupyter.widget-state+json": {
    "164c293ac3df4bdab382ea55e49a1ef5": {
     "model_module": "itkwidgets",
     "model_module_version": "^0.32.3",
     "model_name": "ViewerModel",
     "state": {
      "_custom_cmap": null,
      "_dom_classes": [],
      "_downsampling": false,
      "_largest_roi": {
       "dtype": "float64",
       "shape": [
        2,
        3
       ]
      },
      "_model_module": "itkwidgets",
      "_model_module_version": "^0.32.3",
      "_model_name": "ViewerModel",
      "_rendering_image": false,
      "_reset_crop_requested": false,
      "_scale_factors": {
       "dtype": "uint8",
       "shape": [
        3
       ]
      },
      "_view_count": null,
      "_view_module": "itkwidgets",
      "_view_module_version": "^0.32.3",
      "_view_name": "ViewerView",
      "annotations": true,
      "axes": false,
      "background": [
       0.2196078431372549,
       0.2196078431372549,
       0.2196078431372549
      ],
      "blend_mode": "composite",
      "camera": {
       "dtype": "float32",
       "shape": [
        3,
        3
       ]
      },
      "channels": [],
      "clicked_slice_point": null,
      "cmap": null,
      "geometries": [
       {
        "cellData": {
         "activeScalars": 0,
         "arrays": [
          {
           "data": {
            "dataType": "Float64Array",
            "name": "Subdomains",
            "numberOfComponents": 1,
            "size": 946,
            "vtkClass": "vtkDataArray"
           }
          }
         ],
         "vtkClass": "vtkDataSetAttributes"
        },
        "metadata": {
         "name": "Geometry 0"
        },
        "points": {
         "dataType": "Float32Array",
         "name": "_points",
         "numberOfComponents": 3,
         "size": 1542,
         "vtkClass": "vtkPoints"
        },
        "polys": {
         "dataType": "Uint32Array",
         "name": "_polys",
         "numberOfComponents": 1,
         "size": 3784,
         "vtkClass": "vtkCellArray"
        },
        "vtkClass": "vtkPolyData"
       }
      ],
      "geometry_colors": {
       "dtype": "float32",
       "shape": [
        1,
        3
       ]
      },
      "geometry_opacities": {
       "dtype": "float32",
       "shape": [
        1
       ]
      },
      "gradient_opacity": 0.2,
      "interpolation": true,
      "label_image_blend": 0.5,
      "label_image_names": null,
      "label_image_weights": null,
      "layout": "IPY_MODEL_575bdbbdb4094decb0fd4b00be067de3",
      "lut": "glasbey",
      "mode": "v",
      "opacity_gaussians": null,
      "point_set_colors": {
       "dtype": "float32",
       "shape": [
        0,
        3
       ]
      },
      "point_set_opacities": {
       "dtype": "float32",
       "shape": [
        0
       ]
      },
      "point_set_representations": [],
      "point_set_sizes": {
       "dtype": "uint8",
       "shape": [
        0
       ]
      },
      "point_sets": [],
      "rendered_image": null,
      "rendered_label_image": null,
      "roi": {
       "dtype": "float64",
       "shape": [
        2,
        3
       ]
      },
      "rotate": false,
      "sample_distance": 0.25,
      "select_roi": false,
      "shadow": true,
      "slicing_planes": false,
      "ui_collapsed": true,
      "units": "",
      "vmax": null,
      "vmin": null,
      "x_slice": null,
      "y_slice": null,
      "z_slice": null
     }
    },
    "456acd5897104fe89c2464225fa47cbe": {
     "model_module": "@jupyter-widgets/base",
     "model_module_version": "1.2.0",
     "model_name": "LayoutModel",
     "state": {
      "_model_module": "@jupyter-widgets/base",
      "_model_module_version": "1.2.0",
      "_model_name": "LayoutModel",
      "_view_count": null,
      "_view_module": "@jupyter-widgets/base",
      "_view_module_version": "1.2.0",
      "_view_name": "LayoutView",
      "align_content": null,
      "align_items": null,
      "align_self": null,
      "border": null,
      "bottom": null,
      "display": null,
      "flex": null,
      "flex_flow": null,
      "grid_area": null,
      "grid_auto_columns": null,
      "grid_auto_flow": null,
      "grid_auto_rows": null,
      "grid_column": null,
      "grid_gap": null,
      "grid_row": null,
      "grid_template_areas": null,
      "grid_template_columns": null,
      "grid_template_rows": null,
      "height": null,
      "justify_content": null,
      "justify_items": null,
      "left": null,
      "margin": null,
      "max_height": null,
      "max_width": null,
      "min_height": null,
      "min_width": null,
      "object_fit": null,
      "object_position": null,
      "order": null,
      "overflow": null,
      "overflow_x": null,
      "overflow_y": null,
      "padding": null,
      "right": null,
      "top": null,
      "visibility": null,
      "width": null
     }
    },
    "575bdbbdb4094decb0fd4b00be067de3": {
     "model_module": "@jupyter-widgets/base",
     "model_module_version": "1.2.0",
     "model_name": "LayoutModel",
     "state": {
      "_model_module": "@jupyter-widgets/base",
      "_model_module_version": "1.2.0",
      "_model_name": "LayoutModel",
      "_view_count": null,
      "_view_module": "@jupyter-widgets/base",
      "_view_module_version": "1.2.0",
      "_view_name": "LayoutView",
      "align_content": null,
      "align_items": null,
      "align_self": null,
      "border": null,
      "bottom": null,
      "display": null,
      "flex": null,
      "flex_flow": null,
      "grid_area": null,
      "grid_auto_columns": null,
      "grid_auto_flow": null,
      "grid_auto_rows": null,
      "grid_column": null,
      "grid_gap": null,
      "grid_row": null,
      "grid_template_areas": null,
      "grid_template_columns": null,
      "grid_template_rows": null,
      "height": null,
      "justify_content": null,
      "justify_items": null,
      "left": null,
      "margin": null,
      "max_height": null,
      "max_width": null,
      "min_height": null,
      "min_width": null,
      "object_fit": null,
      "object_position": null,
      "order": null,
      "overflow": null,
      "overflow_x": null,
      "overflow_y": null,
      "padding": null,
      "right": null,
      "top": null,
      "visibility": null,
      "width": null
     }
    },
    "5bdca617f1b4491883db93454c0617ea": {
     "model_module": "@jupyter-widgets/base",
     "model_module_version": "1.2.0",
     "model_name": "LayoutModel",
     "state": {
      "_model_module": "@jupyter-widgets/base",
      "_model_module_version": "1.2.0",
      "_model_name": "LayoutModel",
      "_view_count": null,
      "_view_module": "@jupyter-widgets/base",
      "_view_module_version": "1.2.0",
      "_view_name": "LayoutView",
      "align_content": null,
      "align_items": null,
      "align_self": null,
      "border": null,
      "bottom": null,
      "display": null,
      "flex": null,
      "flex_flow": null,
      "grid_area": null,
      "grid_auto_columns": null,
      "grid_auto_flow": null,
      "grid_auto_rows": null,
      "grid_column": null,
      "grid_gap": null,
      "grid_row": null,
      "grid_template_areas": null,
      "grid_template_columns": null,
      "grid_template_rows": null,
      "height": null,
      "justify_content": null,
      "justify_items": null,
      "left": null,
      "margin": null,
      "max_height": null,
      "max_width": null,
      "min_height": null,
      "min_width": null,
      "object_fit": null,
      "object_position": null,
      "order": null,
      "overflow": null,
      "overflow_x": null,
      "overflow_y": null,
      "padding": null,
      "right": null,
      "top": null,
      "visibility": null,
      "width": null
     }
    },
    "64d79382809748b98eee0a5597e4cdfd": {
     "model_module": "@jupyter-widgets/base",
     "model_module_version": "1.2.0",
     "model_name": "LayoutModel",
     "state": {
      "_model_module": "@jupyter-widgets/base",
      "_model_module_version": "1.2.0",
      "_model_name": "LayoutModel",
      "_view_count": null,
      "_view_module": "@jupyter-widgets/base",
      "_view_module_version": "1.2.0",
      "_view_name": "LayoutView",
      "align_content": null,
      "align_items": null,
      "align_self": null,
      "border": null,
      "bottom": null,
      "display": null,
      "flex": null,
      "flex_flow": null,
      "grid_area": null,
      "grid_auto_columns": null,
      "grid_auto_flow": null,
      "grid_auto_rows": null,
      "grid_column": null,
      "grid_gap": null,
      "grid_row": null,
      "grid_template_areas": null,
      "grid_template_columns": null,
      "grid_template_rows": null,
      "height": null,
      "justify_content": null,
      "justify_items": null,
      "left": null,
      "margin": null,
      "max_height": null,
      "max_width": null,
      "min_height": null,
      "min_width": null,
      "object_fit": null,
      "object_position": null,
      "order": null,
      "overflow": null,
      "overflow_x": null,
      "overflow_y": null,
      "padding": null,
      "right": null,
      "top": null,
      "visibility": null,
      "width": null
     }
    },
    "7c7103fc0d3142ea8e2cd9c4acbcaeff": {
     "model_module": "@jupyter-widgets/base",
     "model_module_version": "1.2.0",
     "model_name": "LayoutModel",
     "state": {
      "_model_module": "@jupyter-widgets/base",
      "_model_module_version": "1.2.0",
      "_model_name": "LayoutModel",
      "_view_count": null,
      "_view_module": "@jupyter-widgets/base",
      "_view_module_version": "1.2.0",
      "_view_name": "LayoutView",
      "align_content": null,
      "align_items": null,
      "align_self": null,
      "border": null,
      "bottom": null,
      "display": null,
      "flex": null,
      "flex_flow": null,
      "grid_area": null,
      "grid_auto_columns": null,
      "grid_auto_flow": null,
      "grid_auto_rows": null,
      "grid_column": null,
      "grid_gap": null,
      "grid_row": null,
      "grid_template_areas": null,
      "grid_template_columns": null,
      "grid_template_rows": null,
      "height": null,
      "justify_content": null,
      "justify_items": null,
      "left": null,
      "margin": null,
      "max_height": null,
      "max_width": null,
      "min_height": null,
      "min_width": null,
      "object_fit": null,
      "object_position": null,
      "order": null,
      "overflow": null,
      "overflow_x": null,
      "overflow_y": null,
      "padding": null,
      "right": null,
      "top": null,
      "visibility": null,
      "width": null
     }
    },
    "8647b2f1119248c6a0741628acdbd600": {
     "model_module": "@jupyter-widgets/base",
     "model_module_version": "1.2.0",
     "model_name": "LayoutModel",
     "state": {
      "_model_module": "@jupyter-widgets/base",
      "_model_module_version": "1.2.0",
      "_model_name": "LayoutModel",
      "_view_count": null,
      "_view_module": "@jupyter-widgets/base",
      "_view_module_version": "1.2.0",
      "_view_name": "LayoutView",
      "align_content": null,
      "align_items": null,
      "align_self": null,
      "border": null,
      "bottom": null,
      "display": null,
      "flex": null,
      "flex_flow": null,
      "grid_area": null,
      "grid_auto_columns": null,
      "grid_auto_flow": null,
      "grid_auto_rows": null,
      "grid_column": null,
      "grid_gap": null,
      "grid_row": null,
      "grid_template_areas": null,
      "grid_template_columns": null,
      "grid_template_rows": null,
      "height": null,
      "justify_content": null,
      "justify_items": null,
      "left": null,
      "margin": null,
      "max_height": null,
      "max_width": null,
      "min_height": null,
      "min_width": null,
      "object_fit": null,
      "object_position": null,
      "order": null,
      "overflow": null,
      "overflow_x": null,
      "overflow_y": null,
      "padding": null,
      "right": null,
      "top": null,
      "visibility": null,
      "width": null
     }
    },
    "b0d850019fd1491eaaad75b8e5249fa9": {
     "model_module": "itkwidgets",
     "model_module_version": "^0.32.3",
     "model_name": "ViewerModel",
     "state": {
      "_custom_cmap": null,
      "_dom_classes": [],
      "_downsampling": false,
      "_largest_roi": {
       "dtype": "float64",
       "shape": [
        2,
        3
       ]
      },
      "_model_module": "itkwidgets",
      "_model_module_version": "^0.32.3",
      "_model_name": "ViewerModel",
      "_rendering_image": false,
      "_reset_crop_requested": false,
      "_scale_factors": {
       "dtype": "uint8",
       "shape": [
        3
       ]
      },
      "_view_count": null,
      "_view_module": "itkwidgets",
      "_view_module_version": "^0.32.3",
      "_view_name": "ViewerView",
      "annotations": true,
      "axes": false,
      "background": [
       0.2196078431372549,
       0.2196078431372549,
       0.2196078431372549
      ],
      "blend_mode": "composite",
      "camera": {
       "dtype": "float32",
       "shape": [
        3,
        3
       ]
      },
      "channels": [],
      "clicked_slice_point": null,
      "cmap": null,
      "geometries": [
       {
        "metadata": {
         "name": "Geometry 0"
        },
        "points": {
         "dataType": "Float32Array",
         "name": "_points",
         "numberOfComponents": 3,
         "size": 1542,
         "vtkClass": "vtkPoints"
        },
        "polys": {
         "dataType": "Uint32Array",
         "name": "_polys",
         "numberOfComponents": 1,
         "size": 3784,
         "vtkClass": "vtkCellArray"
        },
        "vtkClass": "vtkPolyData"
       }
      ],
      "geometry_colors": {
       "dtype": "float32",
       "shape": [
        1,
        3
       ]
      },
      "geometry_opacities": {
       "dtype": "float32",
       "shape": [
        1
       ]
      },
      "gradient_opacity": 0.2,
      "interpolation": true,
      "label_image_blend": 0.5,
      "label_image_names": null,
      "label_image_weights": null,
      "layout": "IPY_MODEL_64d79382809748b98eee0a5597e4cdfd",
      "lut": "glasbey",
      "mode": "v",
      "opacity_gaussians": null,
      "point_set_colors": {
       "dtype": "float32",
       "shape": [
        0,
        3
       ]
      },
      "point_set_opacities": {
       "dtype": "float32",
       "shape": [
        0
       ]
      },
      "point_set_representations": [],
      "point_set_sizes": {
       "dtype": "uint8",
       "shape": [
        0
       ]
      },
      "point_sets": [],
      "rendered_image": null,
      "rendered_label_image": null,
      "roi": {
       "dtype": "float64",
       "shape": [
        2,
        3
       ]
      },
      "rotate": false,
      "sample_distance": 0.25,
      "select_roi": false,
      "shadow": true,
      "slicing_planes": false,
      "ui_collapsed": true,
      "units": "",
      "vmax": null,
      "vmin": null,
      "x_slice": null,
      "y_slice": null,
      "z_slice": null
     }
    },
    "d020c2653bf54a398cf321765f5c1807": {
     "model_module": "itkwidgets",
     "model_module_version": "^0.32.3",
     "model_name": "ViewerModel",
     "state": {
      "_custom_cmap": null,
      "_dom_classes": [],
      "_downsampling": false,
      "_largest_roi": {
       "dtype": "float64",
       "shape": [
        2,
        3
       ]
      },
      "_model_module": "itkwidgets",
      "_model_module_version": "^0.32.3",
      "_model_name": "ViewerModel",
      "_rendering_image": false,
      "_reset_crop_requested": false,
      "_scale_factors": {
       "dtype": "uint8",
       "shape": [
        3
       ]
      },
      "_view_count": null,
      "_view_module": "itkwidgets",
      "_view_module_version": "^0.32.3",
      "_view_name": "ViewerView",
      "annotations": true,
      "axes": false,
      "background": [
       0.2196078431372549,
       0.2196078431372549,
       0.2196078431372549
      ],
      "blend_mode": "composite",
      "camera": {
       "dtype": "float32",
       "shape": [
        3,
        3
       ]
      },
      "channels": [],
      "clicked_slice_point": null,
      "cmap": null,
      "geometries": [
       {
        "cellData": {
         "activeScalars": 0,
         "arrays": [
          {
           "data": {
            "dataType": "Float64Array",
            "name": "Boundaries",
            "numberOfComponents": 1,
            "size": 1459,
            "vtkClass": "vtkDataArray"
           }
          }
         ],
         "vtkClass": "vtkDataSetAttributes"
        },
        "lines": {
         "dataType": "Uint32Array",
         "name": "_lines",
         "numberOfComponents": 1,
         "size": 4377,
         "vtkClass": "vtkCellArray"
        },
        "metadata": {
         "name": "Geometry 0"
        },
        "points": {
         "dataType": "Float32Array",
         "name": "_points",
         "numberOfComponents": 3,
         "size": 1542,
         "vtkClass": "vtkPoints"
        },
        "vtkClass": "vtkPolyData"
       }
      ],
      "geometry_colors": {
       "dtype": "float32",
       "shape": [
        1,
        3
       ]
      },
      "geometry_opacities": {
       "dtype": "float32",
       "shape": [
        1
       ]
      },
      "gradient_opacity": 0.2,
      "interpolation": true,
      "label_image_blend": 0.5,
      "label_image_names": null,
      "label_image_weights": null,
      "layout": "IPY_MODEL_8647b2f1119248c6a0741628acdbd600",
      "lut": "glasbey",
      "mode": "v",
      "opacity_gaussians": null,
      "point_set_colors": {
       "dtype": "float32",
       "shape": [
        0,
        3
       ]
      },
      "point_set_opacities": {
       "dtype": "float32",
       "shape": [
        0
       ]
      },
      "point_set_representations": [],
      "point_set_sizes": {
       "dtype": "uint8",
       "shape": [
        0
       ]
      },
      "point_sets": [],
      "rendered_image": null,
      "rendered_label_image": null,
      "roi": {
       "dtype": "float64",
       "shape": [
        2,
        3
       ]
      },
      "rotate": false,
      "sample_distance": 0.25,
      "select_roi": false,
      "shadow": true,
      "slicing_planes": false,
      "ui_collapsed": true,
      "units": "",
      "vmax": null,
      "vmin": null,
      "x_slice": null,
      "y_slice": null,
      "z_slice": null
     }
    },
    "db63cf51c7e8406697b409d20f98241a": {
     "model_module": "itkwidgets",
     "model_module_version": "^0.32.3",
     "model_name": "ViewerModel",
     "state": {
      "_custom_cmap": null,
      "_dom_classes": [],
      "_downsampling": false,
      "_largest_roi": {
       "dtype": "float64",
       "shape": [
        2,
        3
       ]
      },
      "_model_module": "itkwidgets",
      "_model_module_version": "^0.32.3",
      "_model_name": "ViewerModel",
      "_rendering_image": false,
      "_reset_crop_requested": false,
      "_scale_factors": {
       "dtype": "uint8",
       "shape": [
        3
       ]
      },
      "_view_count": null,
      "_view_module": "itkwidgets",
      "_view_module_version": "^0.32.3",
      "_view_name": "ViewerView",
      "annotations": true,
      "axes": false,
      "background": [
       0.2196078431372549,
       0.2196078431372549,
       0.2196078431372549
      ],
      "blend_mode": "composite",
      "camera": {
       "dtype": "float32",
       "shape": [
        3,
        3
       ]
      },
      "channels": [],
      "clicked_slice_point": null,
      "cmap": null,
      "geometries": [
       {
        "metadata": {
         "name": "Geometry 0"
        },
        "pointData": {
         "activeScalars": 0,
         "arrays": [
          {
           "data": {
            "dataType": "Float64Array",
            "name": "Potential",
            "numberOfComponents": 1,
            "size": 1973,
            "vtkClass": "vtkDataArray"
           }
          }
         ],
         "vtkClass": "vtkDataSetAttributes"
        },
        "points": {
         "dataType": "Float32Array",
         "name": "_points",
         "numberOfComponents": 3,
         "size": 5919,
         "vtkClass": "vtkPoints"
        },
        "polys": {
         "dataType": "Uint32Array",
         "name": "_polys",
         "numberOfComponents": 1,
         "size": 15136,
         "vtkClass": "vtkCellArray"
        },
        "vtkClass": "vtkPolyData"
       }
      ],
      "geometry_colors": {
       "dtype": "float32",
       "shape": [
        1,
        3
       ]
      },
      "geometry_opacities": {
       "dtype": "float32",
       "shape": [
        1
       ]
      },
      "gradient_opacity": 0.2,
      "interpolation": true,
      "label_image_blend": 0.5,
      "label_image_names": null,
      "label_image_weights": null,
      "layout": "IPY_MODEL_5bdca617f1b4491883db93454c0617ea",
      "lut": "glasbey",
      "mode": "v",
      "opacity_gaussians": null,
      "point_set_colors": {
       "dtype": "float32",
       "shape": [
        0,
        3
       ]
      },
      "point_set_opacities": {
       "dtype": "float32",
       "shape": [
        0
       ]
      },
      "point_set_representations": [],
      "point_set_sizes": {
       "dtype": "uint8",
       "shape": [
        0
       ]
      },
      "point_sets": [],
      "rendered_image": null,
      "rendered_label_image": null,
      "roi": {
       "dtype": "float64",
       "shape": [
        2,
        3
       ]
      },
      "rotate": false,
      "sample_distance": 0.25,
      "select_roi": false,
      "shadow": true,
      "slicing_planes": false,
      "ui_collapsed": false,
      "units": "",
      "vmax": null,
      "vmin": null,
      "x_slice": null,
      "y_slice": null,
      "z_slice": null
     }
    },
    "e0629e8606af4c8ab2e4434731dd8191": {
     "model_module": "itkwidgets",
     "model_module_version": "^0.32.3",
     "model_name": "ViewerModel",
     "state": {
      "_custom_cmap": null,
      "_dom_classes": [],
      "_downsampling": false,
      "_largest_roi": {
       "dtype": "float64",
       "shape": [
        2,
        3
       ]
      },
      "_model_module": "itkwidgets",
      "_model_module_version": "^0.32.3",
      "_model_name": "ViewerModel",
      "_rendering_image": false,
      "_reset_crop_requested": false,
      "_scale_factors": {
       "dtype": "uint8",
       "shape": [
        3
       ]
      },
      "_view_count": null,
      "_view_module": "itkwidgets",
      "_view_module_version": "^0.32.3",
      "_view_name": "ViewerView",
      "annotations": true,
      "axes": false,
      "background": [
       0.2196078431372549,
       0.2196078431372549,
       0.2196078431372549
      ],
      "blend_mode": "composite",
      "camera": {
       "dtype": "float32",
       "shape": [
        3,
        3
       ]
      },
      "channels": [],
      "clicked_slice_point": null,
      "cmap": null,
      "geometries": [
       {
        "cellData": {
         "activeScalars": 0,
         "arrays": [
          {
           "data": {
            "dataType": "Float64Array",
            "name": "Boundaries",
            "numberOfComponents": 1,
            "size": 1459,
            "vtkClass": "vtkDataArray"
           }
          }
         ],
         "vtkClass": "vtkDataSetAttributes"
        },
        "lines": {
         "dataType": "Uint32Array",
         "name": "_lines",
         "numberOfComponents": 1,
         "size": 4377,
         "vtkClass": "vtkCellArray"
        },
        "metadata": {
         "name": "Geometry 0"
        },
        "points": {
         "dataType": "Float32Array",
         "name": "_points",
         "numberOfComponents": 3,
         "size": 1542,
         "vtkClass": "vtkPoints"
        },
        "vtkClass": "vtkPolyData"
       }
      ],
      "geometry_colors": {
       "dtype": "float32",
       "shape": [
        1,
        3
       ]
      },
      "geometry_opacities": {
       "dtype": "float32",
       "shape": [
        1
       ]
      },
      "gradient_opacity": 0.2,
      "interpolation": true,
      "label_image_blend": 0.5,
      "label_image_names": null,
      "label_image_weights": null,
      "layout": "IPY_MODEL_456acd5897104fe89c2464225fa47cbe",
      "lut": "glasbey",
      "mode": "v",
      "opacity_gaussians": null,
      "point_set_colors": {
       "dtype": "float32",
       "shape": [
        0,
        3
       ]
      },
      "point_set_opacities": {
       "dtype": "float32",
       "shape": [
        0
       ]
      },
      "point_set_representations": [],
      "point_set_sizes": {
       "dtype": "uint8",
       "shape": [
        0
       ]
      },
      "point_sets": [],
      "rendered_image": null,
      "rendered_label_image": null,
      "roi": {
       "dtype": "float64",
       "shape": [
        2,
        3
       ]
      },
      "rotate": false,
      "sample_distance": 0.25,
      "select_roi": false,
      "shadow": true,
      "slicing_planes": false,
      "ui_collapsed": true,
      "units": "",
      "vmax": null,
      "vmin": null,
      "x_slice": null,
      "y_slice": null,
      "z_slice": null
     }
    },
    "f39d7b5dc63145949ca468ee42ddb060": {
     "model_module": "itkwidgets",
     "model_module_version": "^0.32.3",
     "model_name": "ViewerModel",
     "state": {
      "_custom_cmap": null,
      "_dom_classes": [],
      "_downsampling": false,
      "_largest_roi": {
       "dtype": "float64",
       "shape": [
        2,
        3
       ]
      },
      "_model_module": "itkwidgets",
      "_model_module_version": "^0.32.3",
      "_model_name": "ViewerModel",
      "_rendering_image": false,
      "_reset_crop_requested": false,
      "_scale_factors": {
       "dtype": "uint8",
       "shape": [
        3
       ]
      },
      "_view_count": null,
      "_view_module": "itkwidgets",
      "_view_module_version": "^0.32.3",
      "_view_name": "ViewerView",
      "annotations": true,
      "axes": false,
      "background": [
       1,
       1,
       1
      ],
      "blend_mode": "composite",
      "camera": {
       "dtype": "float32",
       "shape": [
        3,
        3
       ]
      },
      "channels": [],
      "clicked_slice_point": null,
      "cmap": null,
      "geometries": [
       {
        "metadata": {
         "name": "Geometry 0"
        },
        "pointData": {
         "activeScalars": 0,
         "activeVectors": 1,
         "arrays": [
          {
           "data": {
            "dataType": "Float32Array",
            "name": "GlyphScale",
            "numberOfComponents": 1,
            "size": 61163,
            "vtkClass": "vtkDataArray"
           }
          },
          {
           "data": {
            "dataType": "Float32Array",
            "name": "GlyphVector",
            "numberOfComponents": 3,
            "size": 183489,
            "vtkClass": "vtkDataArray"
           }
          }
         ],
         "vtkClass": "vtkDataSetAttributes"
        },
        "points": {
         "dataType": "Float32Array",
         "name": "_points",
         "numberOfComponents": 3,
         "size": 183489,
         "vtkClass": "vtkPoints"
        },
        "polys": {
         "dataType": "Uint32Array",
         "name": "_polys",
         "numberOfComponents": 1,
         "size": 147975,
         "vtkClass": "vtkCellArray"
        },
        "vtkClass": "vtkPolyData"
       },
       {
        "lines": {
         "dataType": "Uint32Array",
         "name": "_lines",
         "numberOfComponents": 1,
         "size": 4377,
         "vtkClass": "vtkCellArray"
        },
        "metadata": {
         "name": "Geometry 1"
        },
        "points": {
         "dataType": "Float32Array",
         "name": "_points",
         "numberOfComponents": 3,
         "size": 1542,
         "vtkClass": "vtkPoints"
        },
        "vtkClass": "vtkPolyData"
       }
      ],
      "geometry_colors": {
       "dtype": "float32",
       "shape": [
        2,
        3
       ]
      },
      "geometry_opacities": {
       "dtype": "float32",
       "shape": [
        2
       ]
      },
      "gradient_opacity": 0.2,
      "interpolation": true,
      "label_image_blend": 0.5,
      "label_image_names": null,
      "label_image_weights": null,
      "layout": "IPY_MODEL_7c7103fc0d3142ea8e2cd9c4acbcaeff",
      "lut": "glasbey",
      "mode": "v",
      "opacity_gaussians": null,
      "point_set_colors": {
       "dtype": "float32",
       "shape": [
        0,
        3
       ]
      },
      "point_set_opacities": {
       "dtype": "float32",
       "shape": [
        0
       ]
      },
      "point_set_representations": [],
      "point_set_sizes": {
       "dtype": "uint8",
       "shape": [
        0
       ]
      },
      "point_sets": [],
      "rendered_image": null,
      "rendered_label_image": null,
      "roi": {
       "dtype": "float64",
       "shape": [
        2,
        3
       ]
      },
      "rotate": false,
      "sample_distance": 0.25,
      "select_roi": false,
      "shadow": true,
      "slicing_planes": false,
      "ui_collapsed": true,
      "units": "",
      "vmax": null,
      "vmin": null,
      "x_slice": null,
      "y_slice": null,
      "z_slice": null
     }
    }
   }
  }
 },
 "nbformat": 4,
 "nbformat_minor": 5
}
